{
 "cells": [
  {
   "cell_type": "markdown",
   "metadata": {
    "toc": true
   },
   "source": [
    "<h1>Содержание<span class=\"tocSkip\"></span></h1>\n",
    "<div class=\"toc\"><ul class=\"toc-item\"><li><span><a href=\"#Подготовка\" data-toc-modified-id=\"Подготовка-1\"><span class=\"toc-item-num\">1&nbsp;&nbsp;</span>Подготовка</a></span></li><li><span><a href=\"#Анализ\" data-toc-modified-id=\"Анализ-2\"><span class=\"toc-item-num\">2&nbsp;&nbsp;</span>Анализ</a></span></li><li><span><a href=\"#Обучение\" data-toc-modified-id=\"Обучение-3\"><span class=\"toc-item-num\">3&nbsp;&nbsp;</span>Обучение</a></span></li><li><span><a href=\"#Тестирование\" data-toc-modified-id=\"Тестирование-4\"><span class=\"toc-item-num\">4&nbsp;&nbsp;</span>Тестирование</a></span></li><li><span><a href=\"#Вывод\" data-toc-modified-id=\"Вывод-5\"><span class=\"toc-item-num\">5&nbsp;&nbsp;</span>Вывод</a></span></li><li><span><a href=\"#Чек-лист-проверки\" data-toc-modified-id=\"Чек-лист-проверки-6\"><span class=\"toc-item-num\">6&nbsp;&nbsp;</span>Чек-лист проверки</a></span></li></ul></div>"
   ]
  },
  {
   "cell_type": "markdown",
   "metadata": {},
   "source": [
    "#  Прогнозирование заказов такси"
   ]
  },
  {
   "cell_type": "markdown",
   "metadata": {},
   "source": [
    "Компания «Чётенькое такси» собрала исторические данные о заказах такси в аэропортах. Чтобы привлекать больше водителей в период пиковой нагрузки, нужно спрогнозировать количество заказов такси на следующий час. Постройте модель для такого предсказания.\n",
    "\n",
    "Значение метрики *RMSE* на тестовой выборке должно быть не больше 48.\n",
    "\n",
    "Вам нужно:\n",
    "\n",
    "1. Загрузить данные и выполнить их ресемплирование по одному часу.\n",
    "2. Проанализировать данные.\n",
    "3. Обучить разные модели с различными гиперпараметрами. Сделать тестовую выборку размером 10% от исходных данных.\n",
    "4. Проверить данные на тестовой выборке и сделать выводы.\n",
    "\n",
    "\n",
    "Данные лежат в файле `taxi.csv`. Количество заказов находится в столбце `num_orders` (от англ. *number of orders*, «число заказов»)."
   ]
  },
  {
   "cell_type": "markdown",
   "metadata": {},
   "source": [
    "## Подготовка"
   ]
  },
  {
   "cell_type": "markdown",
   "metadata": {},
   "source": [
    " Установим и импортируем необходимые библиотеки."
   ]
  },
  {
   "cell_type": "code",
   "execution_count": 1,
   "metadata": {},
   "outputs": [],
   "source": [
    "import os\n",
    "import warnings\n",
    "import time\n",
    "import matplotlib.pyplot as plt\n",
    "import seaborn as sns\n",
    "import numpy as np\n",
    "import pandas as pd\n",
    "pd.set_option('display.max_rows', None)\n",
    "\n",
    "from sklearn.tree import DecisionTreeRegressor\n",
    "from sklearn.ensemble import (\n",
    "                              RandomForestRegressor,\n",
    "                              GradientBoostingRegressor)\n",
    "\n",
    "from sklearn.linear_model import LinearRegression\n",
    "from sklearn.model_selection import (train_test_split,\n",
    "                                     RandomizedSearchCV,\n",
    "                                     TimeSeriesSplit)\n",
    "from sklearn.preprocessing import StandardScaler, MinMaxScaler, FunctionTransformer\n",
    "from sklearn.metrics import mean_squared_error\n",
    "from sklearn.preprocessing import (\n",
    "    StandardScaler, \n",
    "    MinMaxScaler,\n",
    "    OneHotEncoder,\n",
    "    OrdinalEncoder)\n",
    "\n",
    "from sklearn.pipeline import Pipeline\n",
    "from sklearn.compose import ColumnTransformer\n",
    "from sklearn.impute import SimpleImputer\n",
    "\n",
    "from statsmodels.tsa.seasonal import seasonal_decompose\n",
    "from statsmodels.graphics.tsaplots import plot_acf, plot_pacf\n",
    "\n",
    "RANDOM_STATE=42"
   ]
  },
  {
   "cell_type": "markdown",
   "metadata": {},
   "source": [
    "Импортируем датасет, изменив формат дат на datetime и установив этот столбец в качестве индекса."
   ]
  },
  {
   "cell_type": "code",
   "execution_count": 2,
   "metadata": {
    "scrolled": true
   },
   "outputs": [
    {
     "data": {
      "text/html": [
       "<div>\n",
       "<style scoped>\n",
       "    .dataframe tbody tr th:only-of-type {\n",
       "        vertical-align: middle;\n",
       "    }\n",
       "\n",
       "    .dataframe tbody tr th {\n",
       "        vertical-align: top;\n",
       "    }\n",
       "\n",
       "    .dataframe thead th {\n",
       "        text-align: right;\n",
       "    }\n",
       "</style>\n",
       "<table border=\"1\" class=\"dataframe\">\n",
       "  <thead>\n",
       "    <tr style=\"text-align: right;\">\n",
       "      <th></th>\n",
       "      <th>num_orders</th>\n",
       "    </tr>\n",
       "    <tr>\n",
       "      <th>datetime</th>\n",
       "      <th></th>\n",
       "    </tr>\n",
       "  </thead>\n",
       "  <tbody>\n",
       "    <tr>\n",
       "      <th>2018-03-01 00:00:00</th>\n",
       "      <td>9</td>\n",
       "    </tr>\n",
       "    <tr>\n",
       "      <th>2018-03-01 00:10:00</th>\n",
       "      <td>14</td>\n",
       "    </tr>\n",
       "    <tr>\n",
       "      <th>2018-03-01 00:20:00</th>\n",
       "      <td>28</td>\n",
       "    </tr>\n",
       "    <tr>\n",
       "      <th>2018-03-01 00:30:00</th>\n",
       "      <td>20</td>\n",
       "    </tr>\n",
       "    <tr>\n",
       "      <th>2018-03-01 00:40:00</th>\n",
       "      <td>32</td>\n",
       "    </tr>\n",
       "  </tbody>\n",
       "</table>\n",
       "</div>"
      ],
      "text/plain": [
       "                     num_orders\n",
       "datetime                       \n",
       "2018-03-01 00:00:00           9\n",
       "2018-03-01 00:10:00          14\n",
       "2018-03-01 00:20:00          28\n",
       "2018-03-01 00:30:00          20\n",
       "2018-03-01 00:40:00          32"
      ]
     },
     "execution_count": 2,
     "metadata": {},
     "output_type": "execute_result"
    }
   ],
   "source": [
    "file_path = '/datasets/taxi.csv'\n",
    "second_file_path = '/Users/polina.piskovatskova/Documents/YP/datasets/Taxi/taxi.csv'\n",
    "\n",
    "if os.path.exists(file_path):\n",
    "    taxi = pd.read_csv(file_path, parse_dates=['datetime']).set_index('datetime')\n",
    "elif os.path.exists(second_file_path):\n",
    "    taxi = pd.read_csv(second_file_path, parse_dates=['datetime']).reset_index().set_index('datetime')\n",
    "else:\n",
    "    print('Файл не найден')\n",
    "taxi = taxi.sort_index()\n",
    "taxi.head()"
   ]
  },
  {
   "cell_type": "markdown",
   "metadata": {},
   "source": [
    "Проверим, в правильном ли порядке расположены записи в датафрейме."
   ]
  },
  {
   "cell_type": "code",
   "execution_count": 3,
   "metadata": {
    "scrolled": false
   },
   "outputs": [
    {
     "name": "stdout",
     "output_type": "stream",
     "text": [
      "Дата и время заказов расположены в правильном порядке\n",
      "<class 'pandas.core.frame.DataFrame'>\n",
      "DatetimeIndex: 26496 entries, 2018-03-01 00:00:00 to 2018-08-31 23:50:00\n",
      "Data columns (total 1 columns):\n",
      " #   Column      Non-Null Count  Dtype\n",
      "---  ------      --------------  -----\n",
      " 0   num_orders  26496 non-null  int64\n",
      "dtypes: int64(1)\n",
      "memory usage: 414.0 KB\n"
     ]
    }
   ],
   "source": [
    "if taxi.index.is_monotonic == True:\n",
    "    print('Дата и время заказов расположены в правильном порядке')\n",
    "else:\n",
    "    print('Дата и время заказов расположены в неправильном порядке')\n",
    "taxi.info()"
   ]
  },
  {
   "cell_type": "code",
   "execution_count": 4,
   "metadata": {},
   "outputs": [
    {
     "data": {
      "text/plain": [
       "0"
      ]
     },
     "execution_count": 4,
     "metadata": {},
     "output_type": "execute_result"
    }
   ],
   "source": [
    "taxi['num_orders'].isna().sum()"
   ]
  },
  {
   "cell_type": "markdown",
   "metadata": {},
   "source": [
    "Данные по количеству заказов приведены в хронологическом порядке с 1 марта 2018 года по 31 августа 2018 года.  \n",
    "Проведем ресемплирование данных по 1 часу.   "
   ]
  },
  {
   "cell_type": "code",
   "execution_count": 5,
   "metadata": {},
   "outputs": [],
   "source": [
    "taxi = taxi.resample('1H').sum()\n",
    "\n",
    "#taxi['rolling_mean'] = taxi.rolling(30).mean() "
   ]
  },
  {
   "cell_type": "code",
   "execution_count": 6,
   "metadata": {
    "scrolled": true
   },
   "outputs": [
    {
     "data": {
      "text/plain": [
       "count    4416.000000\n",
       "mean       84.422781\n",
       "std        45.023853\n",
       "min         0.000000\n",
       "25%        54.000000\n",
       "50%        78.000000\n",
       "75%       107.000000\n",
       "max       462.000000\n",
       "Name: num_orders, dtype: float64"
      ]
     },
     "execution_count": 6,
     "metadata": {},
     "output_type": "execute_result"
    }
   ],
   "source": [
    "taxi['num_orders'].describe()"
   ]
  },
  {
   "cell_type": "markdown",
   "metadata": {},
   "source": [
    "Минимальное количество заказов - 0, максимальное - 462. Медианное количество заказов: 78. Аномальных значений не наблюдается."
   ]
  },
  {
   "cell_type": "markdown",
   "metadata": {},
   "source": [
    "## Анализ"
   ]
  },
  {
   "cell_type": "markdown",
   "metadata": {},
   "source": [
    "Визуализируем данные."
   ]
  },
  {
   "cell_type": "code",
   "execution_count": 7,
   "metadata": {
    "scrolled": true
   },
   "outputs": [
    {
     "data": {
      "image/png": "[encoded data removed]",
      "text/plain": [
       "<Figure size 864x432 with 1 Axes>"
      ]
     },
     "metadata": {
      "needs_background": "light"
     },
     "output_type": "display_data"
    }
   ],
   "source": [
    "# Построим график\n",
    "ax = taxi['num_orders'].plot(figsize=(12, 6), title='Количество заказов по времени', label='Количество заказов')\n",
    "#taxi['rolling_mean'].plot(ax=ax, label='Скользящее среднее', color='red', linestyle='--')\n",
    "plt.xlabel('Время')\n",
    "plt.ylabel('Количество заказов')\n",
    "plt.legend()\n",
    "plt.show()"
   ]
  },
  {
   "cell_type": "markdown",
   "metadata": {},
   "source": [
    "Предварительно можно наблюдать тренд на увеличение заказов с течением времени - увеличение среднего числа заказов, т.е временной ряд нестационарный.  \n",
    "Проверим сезонность количества заказов. Для этого разложим временной ряд на компоненты тренда, сезонности и остатков."
   ]
  },
  {
   "cell_type": "code",
   "execution_count": 8,
   "metadata": {
    "scrolled": true
   },
   "outputs": [
    {
     "data": {
      "image/png": "[encoded data removed]",
      "text/plain": [
       "<Figure size 432x576 with 3 Axes>"
      ]
     },
     "metadata": {
      "needs_background": "light"
     },
     "output_type": "display_data"
    }
   ],
   "source": [
    "decomposed = seasonal_decompose(taxi)\n",
    "plt.figure(figsize=(6, 8))\n",
    "plt.subplot(311)\n",
    "decomposed.trend.plot(ax=plt.gca())\n",
    "plt.title('Trend')\n",
    "plt.subplot(312)\n",
    "decomposed.seasonal.plot(ax=plt.gca())\n",
    "plt.title('Seasonality')\n",
    "plt.subplot(313)\n",
    "decomposed.resid.plot(ax=plt.gca())\n",
    "plt.title('Residuals')\n",
    "plt.tight_layout()"
   ]
  },
  {
   "cell_type": "markdown",
   "metadata": {},
   "source": [
    "Тренд на увеличение количества заказов с течением времени действительно существует.  \n",
    "Изучим сезонность далее за меньшие промежутки времени."
   ]
  },
  {
   "cell_type": "code",
   "execution_count": 9,
   "metadata": {
    "scrolled": true
   },
   "outputs": [
    {
     "data": {
      "text/plain": [
       "<AxesSubplot:xlabel='datetime'>"
      ]
     },
     "execution_count": 9,
     "metadata": {},
     "output_type": "execute_result"
    },
    {
     "data": {
      "image/png": "[encoded data removed]",
      "text/plain": [
       "<Figure size 432x288 with 1 Axes>"
      ]
     },
     "metadata": {
      "needs_background": "light"
     },
     "output_type": "display_data"
    }
   ],
   "source": [
    "decomposed.seasonal['2018-04-01':'2018-04-15'].plot()"
   ]
  },
  {
   "cell_type": "markdown",
   "metadata": {},
   "source": [
    "Сезонности, связанной с днем недели, выявить не получается."
   ]
  },
  {
   "cell_type": "code",
   "execution_count": 10,
   "metadata": {
    "scrolled": true
   },
   "outputs": [
    {
     "data": {
      "text/plain": [
       "<AxesSubplot:xlabel='datetime'>"
      ]
     },
     "execution_count": 10,
     "metadata": {},
     "output_type": "execute_result"
    },
    {
     "data": {
      "image/png": "[encoded data removed]",
      "text/plain": [
       "<Figure size 432x288 with 1 Axes>"
      ]
     },
     "metadata": {
      "needs_background": "light"
     },
     "output_type": "display_data"
    }
   ],
   "source": [
    "decomposed.seasonal['2018-04-01':'2018-04-02'].plot()"
   ]
  },
  {
   "cell_type": "markdown",
   "metadata": {},
   "source": [
    "Сезонность связана со временем суток. Максимальное количество заказов такси наблюдается ближе к полуночи, минимальное - в 6 утра."
   ]
  },
  {
   "cell_type": "markdown",
   "metadata": {},
   "source": [
    "Определим значимые для моделирования лаги. Для этого используем автокорреляционную функцию ACF и частичную автокорряляционную функцию PACF."
   ]
  },
  {
   "cell_type": "code",
   "execution_count": 11,
   "metadata": {
    "scrolled": true
   },
   "outputs": [
    {
     "data": {
      "image/png": "[encoded data removed]",
      "text/plain": [
       "<Figure size 864x432 with 2 Axes>"
      ]
     },
     "metadata": {
      "needs_background": "light"
     },
     "output_type": "display_data"
    }
   ],
   "source": [
    "warnings.filterwarnings('ignore')\n",
    "# Построение графиков ACF и PACF\n",
    "plt.figure(figsize=(12, 6))\n",
    "\n",
    "# ACF\n",
    "plt.subplot(2, 1, 1)\n",
    "plot_acf(taxi['num_orders'], lags=50, ax=plt.gca())  # Анализ первых 50 лагов\n",
    "plt.title('Автокорреляционная функция (ACF)')\n",
    "plt.xlabel('Лаг')\n",
    "plt.ylabel('Автокорреляция')\n",
    "plt.grid(True)\n",
    "\n",
    "# PACF\n",
    "plt.subplot(2, 1, 2)\n",
    "plot_pacf(taxi['num_orders'], lags=50, ax=plt.gca())\n",
    "plt.title('Частичная автокорреляционная функция (PACF)')\n",
    "plt.xlabel('Лаг') \n",
    "plt.ylabel('Частичная автокорреляция')\n",
    "\n",
    "plt.tight_layout()\n",
    "plt.grid(True)\n",
    "plt.show()"
   ]
  },
  {
   "cell_type": "markdown",
   "metadata": {},
   "source": [
    "ACF Показывает общую корреляцию между количеством заказов и их лагами. Если значения выходят за пределы синей области (доверительный интервал), это указывает на значимую корреляцию. Высокая корреляция наблюдается для значений 0 (само с собой), 1 (значение на 1 шаг назад), 2 часа, 24 и 48 часов - суточная сезонность.\n",
    "PACF Показывает \"чистую\" корреляцию между наблюдениями и их лагами, исключая влияние промежуточных лагов.\n",
    "Добавим значимые лаги в данные. Скользящее среднее возьмем кратным сезонности в сутки - 24 часа."
   ]
  },
  {
   "cell_type": "markdown",
   "metadata": {},
   "source": [
    "## Обучение"
   ]
  },
  {
   "cell_type": "markdown",
   "metadata": {},
   "source": [
    "Для обучения модели создадим дополнительные признаки, с помощью которых можно будет спрогнозировать количество заказов. Добавим лаги, скользящее среднее, день и час."
   ]
  },
  {
   "cell_type": "code",
   "execution_count": 12,
   "metadata": {
    "scrolled": false
   },
   "outputs": [
    {
     "data": {
      "text/html": [
       "<div>\n",
       "<style scoped>\n",
       "    .dataframe tbody tr th:only-of-type {\n",
       "        vertical-align: middle;\n",
       "    }\n",
       "\n",
       "    .dataframe tbody tr th {\n",
       "        vertical-align: top;\n",
       "    }\n",
       "\n",
       "    .dataframe thead th {\n",
       "        text-align: right;\n",
       "    }\n",
       "</style>\n",
       "<table border=\"1\" class=\"dataframe\">\n",
       "  <thead>\n",
       "    <tr style=\"text-align: right;\">\n",
       "      <th></th>\n",
       "      <th>num_orders</th>\n",
       "      <th>lag_1</th>\n",
       "      <th>lag_2</th>\n",
       "      <th>lag_24</th>\n",
       "      <th>lag_48</th>\n",
       "      <th>rolling_mean</th>\n",
       "      <th>day</th>\n",
       "      <th>dayofweek</th>\n",
       "      <th>hour</th>\n",
       "    </tr>\n",
       "    <tr>\n",
       "      <th>datetime</th>\n",
       "      <th></th>\n",
       "      <th></th>\n",
       "      <th></th>\n",
       "      <th></th>\n",
       "      <th></th>\n",
       "      <th></th>\n",
       "      <th></th>\n",
       "      <th></th>\n",
       "      <th></th>\n",
       "    </tr>\n",
       "  </thead>\n",
       "  <tbody>\n",
       "    <tr>\n",
       "      <th>2018-03-03 00:00:00</th>\n",
       "      <td>163</td>\n",
       "      <td>72.0</td>\n",
       "      <td>119.0</td>\n",
       "      <td>90.0</td>\n",
       "      <td>124.0</td>\n",
       "      <td>62.750000</td>\n",
       "      <td>3</td>\n",
       "      <td>5</td>\n",
       "      <td>0</td>\n",
       "    </tr>\n",
       "    <tr>\n",
       "      <th>2018-03-03 01:00:00</th>\n",
       "      <td>108</td>\n",
       "      <td>163.0</td>\n",
       "      <td>72.0</td>\n",
       "      <td>120.0</td>\n",
       "      <td>85.0</td>\n",
       "      <td>65.791667</td>\n",
       "      <td>3</td>\n",
       "      <td>5</td>\n",
       "      <td>1</td>\n",
       "    </tr>\n",
       "    <tr>\n",
       "      <th>2018-03-03 02:00:00</th>\n",
       "      <td>25</td>\n",
       "      <td>108.0</td>\n",
       "      <td>163.0</td>\n",
       "      <td>75.0</td>\n",
       "      <td>71.0</td>\n",
       "      <td>65.291667</td>\n",
       "      <td>3</td>\n",
       "      <td>5</td>\n",
       "      <td>2</td>\n",
       "    </tr>\n",
       "    <tr>\n",
       "      <th>2018-03-03 03:00:00</th>\n",
       "      <td>64</td>\n",
       "      <td>25.0</td>\n",
       "      <td>108.0</td>\n",
       "      <td>64.0</td>\n",
       "      <td>66.0</td>\n",
       "      <td>63.208333</td>\n",
       "      <td>3</td>\n",
       "      <td>5</td>\n",
       "      <td>3</td>\n",
       "    </tr>\n",
       "    <tr>\n",
       "      <th>2018-03-03 04:00:00</th>\n",
       "      <td>44</td>\n",
       "      <td>64.0</td>\n",
       "      <td>25.0</td>\n",
       "      <td>20.0</td>\n",
       "      <td>43.0</td>\n",
       "      <td>63.208333</td>\n",
       "      <td>3</td>\n",
       "      <td>5</td>\n",
       "      <td>4</td>\n",
       "    </tr>\n",
       "  </tbody>\n",
       "</table>\n",
       "</div>"
      ],
      "text/plain": [
       "                     num_orders  lag_1  lag_2  lag_24  lag_48  rolling_mean  \\\n",
       "datetime                                                                      \n",
       "2018-03-03 00:00:00         163   72.0  119.0    90.0   124.0     62.750000   \n",
       "2018-03-03 01:00:00         108  163.0   72.0   120.0    85.0     65.791667   \n",
       "2018-03-03 02:00:00          25  108.0  163.0    75.0    71.0     65.291667   \n",
       "2018-03-03 03:00:00          64   25.0  108.0    64.0    66.0     63.208333   \n",
       "2018-03-03 04:00:00          44   64.0   25.0    20.0    43.0     63.208333   \n",
       "\n",
       "                     day  dayofweek  hour  \n",
       "datetime                                   \n",
       "2018-03-03 00:00:00    3          5     0  \n",
       "2018-03-03 01:00:00    3          5     1  \n",
       "2018-03-03 02:00:00    3          5     2  \n",
       "2018-03-03 03:00:00    3          5     3  \n",
       "2018-03-03 04:00:00    3          5     4  "
      ]
     },
     "execution_count": 12,
     "metadata": {},
     "output_type": "execute_result"
    }
   ],
   "source": [
    "# Определим функцию для добавления новых признаков\n",
    "def make_features(df, rolling_mean_size=24):\n",
    "    data = df.copy()\n",
    "    # Лаги\n",
    "    for lag in [1, 2, 24, 48]: \n",
    "        data[f'lag_{lag}'] = data['num_orders'].shift(lag)\n",
    "    \n",
    "    # Rolling mean\n",
    "    data['rolling_mean'] = data['num_orders'].shift().rolling(rolling_mean_size).mean()\n",
    "\n",
    "    # Признаки даты и времени\n",
    "    data['day'] = data.index.day\n",
    "    data['dayofweek'] = data.index.dayofweek\n",
    "    data['hour'] = data.index.hour\n",
    "\n",
    "    return data.dropna()\n",
    "# Добавим признаки в датасет\n",
    "data = make_features(taxi)\n",
    "data.head()"
   ]
  },
  {
   "cell_type": "markdown",
   "metadata": {},
   "source": [
    "Определим данные для обучения и тестирования в соотношении 90:10."
   ]
  },
  {
   "cell_type": "code",
   "execution_count": 19,
   "metadata": {},
   "outputs": [
    {
     "name": "stdout",
     "output_type": "stream",
     "text": [
      "Размер обучающей выборки: (3931, 8)\n",
      "Размер тестовой выборки: (3931,)\n"
     ]
    }
   ],
   "source": [
    "# Определяем тренировочные и тестовые данные в соотношении 90:10\n",
    "train, test = train_test_split(\n",
    "    data, test_size=0.1, shuffle=False, random_state=RANDOM_STATE\n",
    ")\n",
    "train.dropna()\n",
    "\n",
    "# Целевой признак\n",
    "target = 'num_orders'\n",
    "\n",
    "# Входные признаки\n",
    "features = list(data.columns.drop('num_orders'))\n",
    "\n",
    "print(\"Размер обучающей выборки:\", train[features].shape)\n",
    "print(\"Размер тестовой выборки:\", train[target].shape)"
   ]
  },
  {
   "cell_type": "code",
   "execution_count": 20,
   "metadata": {
    "scrolled": false
   },
   "outputs": [
    {
     "name": "stdout",
     "output_type": "stream",
     "text": [
      "<class 'pandas.core.frame.DataFrame'>\n",
      "DatetimeIndex: 3931 entries, 2018-03-03 00:00:00 to 2018-08-13 18:00:00\n",
      "Freq: H\n",
      "Data columns (total 9 columns):\n",
      " #   Column        Non-Null Count  Dtype  \n",
      "---  ------        --------------  -----  \n",
      " 0   num_orders    3931 non-null   int64  \n",
      " 1   lag_1         3931 non-null   float64\n",
      " 2   lag_2         3931 non-null   float64\n",
      " 3   lag_24        3931 non-null   float64\n",
      " 4   lag_48        3931 non-null   float64\n",
      " 5   rolling_mean  3931 non-null   float64\n",
      " 6   day           3931 non-null   int64  \n",
      " 7   dayofweek     3931 non-null   int64  \n",
      " 8   hour          3931 non-null   int64  \n",
      "dtypes: float64(5), int64(4)\n",
      "memory usage: 307.1 KB\n"
     ]
    }
   ],
   "source": [
    "train.info()"
   ]
  },
  {
   "cell_type": "markdown",
   "metadata": {},
   "source": [
    "Подготовим данные для обучения модели, определим словари гиперпараметров моделей."
   ]
  },
  {
   "cell_type": "code",
   "execution_count": 21,
   "metadata": {},
   "outputs": [],
   "source": [
    "# Cоздаём пайплайн для подготовки данных\n",
    "data_preprocessor = ColumnTransformer(\n",
    "    [\n",
    "     ('num', MinMaxScaler(), features)\n",
    "    ], \n",
    "    remainder='passthrough'\n",
    ")"
   ]
  },
  {
   "cell_type": "code",
   "execution_count": 22,
   "metadata": {},
   "outputs": [],
   "source": [
    "# создаём итоговый пайплайн: подготовка данных и модель\n",
    "pipe_final = Pipeline([\n",
    "    ('preprocessor', data_preprocessor),\n",
    "    ('models', DecisionTreeRegressor(random_state=RANDOM_STATE))\n",
    "])\n",
    "\n",
    "param_grid = [\n",
    "    # словарь для модели DecisionTreeRegressor()\n",
    "    {\n",
    "        'models': [DecisionTreeRegressor(random_state=RANDOM_STATE)],\n",
    "        'models__max_features': range(1, 6),\n",
    "        'models__min_samples_leaf': [3, 5, 7],\n",
    "        'models__min_samples_split': [5, 10, 15],\n",
    "        'preprocessor__num': [StandardScaler(), MinMaxScaler(), 'passthrough']  \n",
    "    },\n",
    "    \n",
    "    # словарь для модели LinearRegression()\n",
    "    {\n",
    "        'models': [LinearRegression()],\n",
    "        'preprocessor__num': [MinMaxScaler(), StandardScaler()]\n",
    "    },\n",
    "    \n",
    "    # словарь для модели RandomForestRegressor()\n",
    "    {\n",
    "        'models': [RandomForestRegressor(random_state=RANDOM_STATE)],\n",
    "        'models__n_estimators': [50, 100, 200],\n",
    "        'models__max_depth': [10, 20, 40],\n",
    "        'preprocessor__num': [StandardScaler(), MinMaxScaler(), 'passthrough']\n",
    "    },\n",
    "    \n",
    "    # словарь для GradientBoostingRegressor()\n",
    "    {\n",
    "        'models': [GradientBoostingRegressor(random_state=RANDOM_STATE)],\n",
    "        'models__n_estimators': [100, 200],\n",
    "        'models__learning_rate': [0.05, 0.1], \n",
    "        'models__max_depth': [5, 7], \n",
    "        'preprocessor__num': [StandardScaler(), MinMaxScaler(), 'passthrough']\n",
    "    }\n",
    "]"
   ]
  },
  {
   "cell_type": "markdown",
   "metadata": {},
   "source": [
    "Для того, чтобы избежать переобучения модели, увеличим количество фолдов при кроссвалидации. "
   ]
  },
  {
   "cell_type": "code",
   "execution_count": 23,
   "metadata": {},
   "outputs": [
    {
     "name": "stdout",
     "output_type": "stream",
     "text": [
      "Лучшие параметры модели:\n",
      " {'preprocessor__num': MinMaxScaler(), 'models__n_estimators': 200, 'models__max_depth': 40, 'models': RandomForestRegressor(max_depth=40, n_estimators=200, random_state=42)}\n",
      "Лучшая метрика модели на тренировочных данных:\n",
      " 24.17\n"
     ]
    }
   ],
   "source": [
    "warnings.filterwarnings(\"ignore\")\n",
    "\n",
    "# Используем TimeSeriesSplit для корректной кросс-валидации временного ряда\n",
    "tscv = TimeSeriesSplit(n_splits=10)\n",
    "\n",
    "# Используем рандомизированный поиск для подбора лучшей модели по метрике RMSE\n",
    "randomized_search = RandomizedSearchCV(\n",
    "    pipe_final,\n",
    "    param_grid,\n",
    "    cv=tscv,\n",
    "    scoring='neg_root_mean_squared_error',\n",
    "    random_state=RANDOM_STATE,\n",
    "    n_jobs=-1\n",
    ")\n",
    "randomized_search.fit(train[features], train[target])\n",
    "\n",
    "\n",
    "print('Лучшие параметры модели:\\n', randomized_search.best_params_)\n",
    "print('Лучшая метрика модели на тренировочных данных:\\n', round((-1) * randomized_search.best_score_, 2))"
   ]
  },
  {
   "cell_type": "markdown",
   "metadata": {},
   "source": [
    "## Тестирование"
   ]
  },
  {
   "cell_type": "code",
   "execution_count": 24,
   "metadata": {},
   "outputs": [
    {
     "name": "stdout",
     "output_type": "stream",
     "text": [
      "RMSE на тестовых данных: 43.58\n"
     ]
    }
   ],
   "source": [
    "# Получение предсказаний на тестовой выборке\n",
    "predictions = randomized_search.best_estimator_.predict(test[features])\n",
    "# Вычисление RMSE на тестовой выборке\n",
    "rmse_test = mean_squared_error(test[target], predictions, squared=False)\n",
    "print(f\"RMSE на тестовых данных: {round(rmse_test, 2)}\")"
   ]
  },
  {
   "cell_type": "code",
   "execution_count": 30,
   "metadata": {},
   "outputs": [
    {
     "data": {
      "image/png": "[encoded data removed]",
      "text/plain": [
       "<Figure size 1080x432 with 1 Axes>"
      ]
     },
     "metadata": {
      "needs_background": "light"
     },
     "output_type": "display_data"
    }
   ],
   "source": [
    "# Вычисление скользящего среднего для сглаживания значений\n",
    "test_smoothed = test[target].rolling(12).mean()\n",
    "predictions_smoothed = pd.Series(predictions).rolling(12).mean()\n",
    "\n",
    "# Визуализация реальных и предсказанных значений тестовой выборки\n",
    "plt.figure(figsize=(15, 6))\n",
    "plt.plot(test.index, test_smoothed, label=\"Реальные значения\", color=\"blue\")\n",
    "plt.plot(test.index, predictions_smoothed, label=\"Предсказания модели\", color=\"orange\")\n",
    "plt.xlabel(\"Дата\")\n",
    "plt.ylabel(\"Количество заказов\")\n",
    "plt.title(\"Сравнение предсказанных и реальных значений\")\n",
    "plt.legend()\n",
    "plt.grid()\n",
    "plt.show()"
   ]
  },
  {
   "cell_type": "markdown",
   "metadata": {},
   "source": [
    "Модель занижает количество заказов в некоторые дни, когда количество заказов выше среднего. Но расхождение не очень высокое в общем случае."
   ]
  },
  {
   "cell_type": "markdown",
   "metadata": {},
   "source": [
    "##  Вывод"
   ]
  },
  {
   "cell_type": "markdown",
   "metadata": {},
   "source": [
    "1. Подготовка данных  \n",
    "\n",
    "   Данные о заказах такси в аэропортах загружены, индексированы по времени и проверены на упорядоченность.  \n",
    "   Проведено ресемплирование по 1 часу.\n",
    "   Выполнен первичный анализ, выявлены пропуски (их нет).\n",
    "   \n",
    "2. Анализ данных  \n",
    "\n",
    "График количества заказов во времени показывает рост количества заказов, подтверждая наличие тренда.\n",
    "Разложение ряда выявило тренд и суточную сезонность, с пиковыми значениями ближе к полуночи и минимумами около 6 утра.\n",
    "Графики ACF и PACF подтвердили значимость лагов 1, 2, 24 и 48 часов.\n",
    "\n",
    "3. Обучение модели\n",
    "\n",
    "В данные добавлены новые признаки: лаги (1, 2, 24, 48 часов), скользящее среднее (24 часа) и признаки времени (day, dayofweek, hour).  \n",
    "Разбиение данных выполнено в пропорции 90:10 для обучения и тестирования моделей.   \n",
    "\n",
    "Используется Pipeline с предварительной обработкой (StandardScaler, MinMaxScaler, passthrough).  \n",
    "\n",
    "Протестированы модели:\n",
    "- DecisionTreeRegressor,\n",
    "- LinearRegression,\n",
    "- RandomForestRegressor,\n",
    "- GradientBoostingRegreassor.  \n",
    "\n",
    "Во избежание утечки данных для кросс-валидации использовалась TimeSeriesSplit, которая позволяет не смешивать данные обучающей и тестовой выборок по времени. После подбора гиперпараметров с помощью RandomizedSearchCV илучшие результаты показала модель RandomForestRegressor с параметрами:\n",
    "\n",
    "- Количество деревьев (n_estimators) = 200,\n",
    "- Глубина деревьев (max_depth) = 40,\n",
    "- Масштабирование признаков с помощью MinMaxScaler().\n",
    "\n",
    "Лучшая RMSE модели на тренировочных данных: 24.17.\n",
    "\n",
    "\n",
    "5. Тестирование   \n",
    "\n",
    "Метрика RMSE на тестовой выборке составила 43.58, что ниже порога 48. Модель может предсказывать заказы такси в аэропорту для дальнейшего планирования графика водителей и количества машин.\n"
   ]
  }
 ],
 "metadata": {
  "ExecuteTimeLog": [
   {
    "duration": 1479,
    "start_time": "2025-02-03T18:09:13.715Z"
   },
   {
    "duration": 22497,
    "start_time": "2025-02-03T18:09:42.879Z"
   },
   {
    "duration": 309,
    "start_time": "2025-02-03T18:10:17.283Z"
   },
   {
    "duration": 48,
    "start_time": "2025-02-03T18:11:23.762Z"
   },
   {
    "duration": 50,
    "start_time": "2025-02-03T18:11:43.919Z"
   },
   {
    "duration": 136,
    "start_time": "2025-02-03T18:12:22.009Z"
   },
   {
    "duration": 46,
    "start_time": "2025-02-03T18:21:41.716Z"
   },
   {
    "duration": 61,
    "start_time": "2025-02-03T20:27:47.921Z"
   },
   {
    "duration": 3335,
    "start_time": "2025-02-03T20:27:56.269Z"
   },
   {
    "duration": 1681,
    "start_time": "2025-02-03T20:27:59.606Z"
   },
   {
    "duration": 50,
    "start_time": "2025-02-03T20:28:01.288Z"
   },
   {
    "duration": 42,
    "start_time": "2025-02-03T20:39:39.655Z"
   },
   {
    "duration": 99,
    "start_time": "2025-02-03T20:40:44.521Z"
   },
   {
    "duration": 2449,
    "start_time": "2025-02-03T20:41:02.666Z"
   },
   {
    "duration": 1536,
    "start_time": "2025-02-03T20:41:05.117Z"
   },
   {
    "duration": 88,
    "start_time": "2025-02-03T20:41:06.655Z"
   },
   {
    "duration": 47,
    "start_time": "2025-02-03T20:42:32.529Z"
   },
   {
    "duration": 43,
    "start_time": "2025-02-03T20:44:04.066Z"
   },
   {
    "duration": 45,
    "start_time": "2025-02-03T20:45:24.236Z"
   },
   {
    "duration": 43,
    "start_time": "2025-02-03T20:46:02.913Z"
   },
   {
    "duration": 43,
    "start_time": "2025-02-03T20:46:09.138Z"
   },
   {
    "duration": 41,
    "start_time": "2025-02-03T20:46:38.323Z"
   },
   {
    "duration": 10,
    "start_time": "2025-02-03T20:47:15.998Z"
   },
   {
    "duration": 43,
    "start_time": "2025-02-03T20:47:58.625Z"
   },
   {
    "duration": 112,
    "start_time": "2025-02-03T20:48:13.229Z"
   },
   {
    "duration": 13,
    "start_time": "2025-02-03T20:48:22.528Z"
   },
   {
    "duration": 10,
    "start_time": "2025-02-03T20:50:38.182Z"
   },
   {
    "duration": 5,
    "start_time": "2025-02-03T20:51:37.122Z"
   },
   {
    "duration": 1342,
    "start_time": "2025-02-03T20:51:48.128Z"
   },
   {
    "duration": 5,
    "start_time": "2025-02-03T20:52:32.565Z"
   },
   {
    "duration": 10,
    "start_time": "2025-02-03T20:52:40.731Z"
   },
   {
    "duration": 10,
    "start_time": "2025-02-03T20:52:55.041Z"
   },
   {
    "duration": 2371,
    "start_time": "2025-02-03T20:53:07.476Z"
   },
   {
    "duration": 1419,
    "start_time": "2025-02-03T20:53:09.849Z"
   },
   {
    "duration": 48,
    "start_time": "2025-02-03T20:53:11.269Z"
   },
   {
    "duration": 11,
    "start_time": "2025-02-03T20:53:11.319Z"
   },
   {
    "duration": 5,
    "start_time": "2025-02-03T20:53:11.331Z"
   },
   {
    "duration": 75070,
    "start_time": "2025-02-03T20:53:11.338Z"
   },
   {
    "duration": 11,
    "start_time": "2025-02-03T20:54:40.645Z"
   },
   {
    "duration": 2334,
    "start_time": "2025-02-03T20:54:47.314Z"
   },
   {
    "duration": 1410,
    "start_time": "2025-02-03T20:54:49.650Z"
   },
   {
    "duration": 47,
    "start_time": "2025-02-03T20:54:51.061Z"
   },
   {
    "duration": 9,
    "start_time": "2025-02-03T20:54:51.110Z"
   },
   {
    "duration": 15,
    "start_time": "2025-02-03T20:54:51.121Z"
   },
   {
    "duration": 225,
    "start_time": "2025-02-03T20:54:51.138Z"
   },
   {
    "duration": 108,
    "start_time": "2025-02-03T20:55:28.490Z"
   },
   {
    "duration": 238,
    "start_time": "2025-02-03T20:55:35.637Z"
   },
   {
    "duration": 49,
    "start_time": "2025-02-04T17:06:23.795Z"
   },
   {
    "duration": 5300,
    "start_time": "2025-02-04T17:06:29.723Z"
   },
   {
    "duration": 1656,
    "start_time": "2025-02-04T17:06:35.025Z"
   },
   {
    "duration": 59,
    "start_time": "2025-02-04T17:06:36.682Z"
   },
   {
    "duration": 172,
    "start_time": "2025-02-04T17:06:36.744Z"
   },
   {
    "duration": 48,
    "start_time": "2025-02-04T17:06:36.917Z"
   },
   {
    "duration": 322,
    "start_time": "2025-02-04T17:06:36.966Z"
   },
   {
    "duration": 334,
    "start_time": "2025-02-04T17:07:59.413Z"
   },
   {
    "duration": 301,
    "start_time": "2025-02-04T17:08:07.949Z"
   },
   {
    "duration": 284,
    "start_time": "2025-02-04T17:08:15.800Z"
   },
   {
    "duration": 262,
    "start_time": "2025-02-04T17:08:21.552Z"
   },
   {
    "duration": 8,
    "start_time": "2025-02-04T17:08:32.432Z"
   },
   {
    "duration": 262,
    "start_time": "2025-02-04T17:08:33.941Z"
   },
   {
    "duration": 8,
    "start_time": "2025-02-04T17:08:40.858Z"
   },
   {
    "duration": 357,
    "start_time": "2025-02-04T17:08:42.400Z"
   },
   {
    "duration": 2429,
    "start_time": "2025-02-04T17:27:54.204Z"
   },
   {
    "duration": 1422,
    "start_time": "2025-02-04T17:27:56.636Z"
   },
   {
    "duration": 48,
    "start_time": "2025-02-04T17:27:58.060Z"
   },
   {
    "duration": 23,
    "start_time": "2025-02-04T17:27:58.109Z"
   },
   {
    "duration": 13,
    "start_time": "2025-02-04T17:27:58.134Z"
   },
   {
    "duration": 356,
    "start_time": "2025-02-04T17:27:58.148Z"
   },
   {
    "duration": 27,
    "start_time": "2025-02-04T17:30:35.996Z"
   },
   {
    "duration": 4,
    "start_time": "2025-02-04T17:40:10.081Z"
   },
   {
    "duration": 4,
    "start_time": "2025-02-04T17:41:51.119Z"
   },
   {
    "duration": 4,
    "start_time": "2025-02-04T17:42:57.782Z"
   },
   {
    "duration": 4,
    "start_time": "2025-02-04T17:43:15.352Z"
   },
   {
    "duration": 15,
    "start_time": "2025-02-04T17:45:06.001Z"
   },
   {
    "duration": 16,
    "start_time": "2025-02-04T17:45:14.601Z"
   },
   {
    "duration": 117,
    "start_time": "2025-02-04T17:47:53.194Z"
   },
   {
    "duration": 4,
    "start_time": "2025-02-04T17:49:33.297Z"
   },
   {
    "duration": 6,
    "start_time": "2025-02-04T17:49:45.002Z"
   },
   {
    "duration": 2415,
    "start_time": "2025-02-04T17:50:22.533Z"
   },
   {
    "duration": 1443,
    "start_time": "2025-02-04T17:50:24.950Z"
   },
   {
    "duration": 49,
    "start_time": "2025-02-04T17:50:26.394Z"
   },
   {
    "duration": 11,
    "start_time": "2025-02-04T17:50:26.445Z"
   },
   {
    "duration": 46,
    "start_time": "2025-02-04T17:50:26.458Z"
   },
   {
    "duration": 10,
    "start_time": "2025-02-04T17:50:26.506Z"
   },
   {
    "duration": 278,
    "start_time": "2025-02-04T17:50:26.517Z"
   },
   {
    "duration": 8,
    "start_time": "2025-02-04T17:50:26.797Z"
   },
   {
    "duration": 2331,
    "start_time": "2025-02-04T18:09:27.595Z"
   },
   {
    "duration": 1432,
    "start_time": "2025-02-04T18:09:29.929Z"
   },
   {
    "duration": 47,
    "start_time": "2025-02-04T18:09:31.363Z"
   },
   {
    "duration": 10,
    "start_time": "2025-02-04T18:09:31.411Z"
   },
   {
    "duration": 4,
    "start_time": "2025-02-04T18:09:31.423Z"
   },
   {
    "duration": 23,
    "start_time": "2025-02-04T18:09:31.428Z"
   },
   {
    "duration": 265,
    "start_time": "2025-02-04T18:09:31.452Z"
   },
   {
    "duration": 762,
    "start_time": "2025-02-04T18:09:31.719Z"
   },
   {
    "duration": 50,
    "start_time": "2025-02-04T19:37:52.809Z"
   },
   {
    "duration": 4218,
    "start_time": "2025-02-04T19:38:00.863Z"
   },
   {
    "duration": 1694,
    "start_time": "2025-02-04T19:38:05.083Z"
   },
   {
    "duration": 58,
    "start_time": "2025-02-04T19:38:06.779Z"
   },
   {
    "duration": 75,
    "start_time": "2025-02-04T19:38:06.839Z"
   },
   {
    "duration": 35,
    "start_time": "2025-02-04T19:38:06.916Z"
   },
   {
    "duration": 11,
    "start_time": "2025-02-04T19:38:06.953Z"
   },
   {
    "duration": 349,
    "start_time": "2025-02-04T19:38:06.965Z"
   },
   {
    "duration": 833,
    "start_time": "2025-02-04T19:38:07.315Z"
   },
   {
    "duration": 189,
    "start_time": "2025-02-04T19:38:08.150Z"
   },
   {
    "duration": 133,
    "start_time": "2025-02-04T19:38:59.754Z"
   },
   {
    "duration": 145,
    "start_time": "2025-02-04T19:40:10.075Z"
   },
   {
    "duration": 146,
    "start_time": "2025-02-04T19:41:06.439Z"
   },
   {
    "duration": 122,
    "start_time": "2025-02-04T19:47:10.070Z"
   },
   {
    "duration": 22,
    "start_time": "2025-02-04T19:47:17.635Z"
   },
   {
    "duration": 16,
    "start_time": "2025-02-04T19:47:22.867Z"
   },
   {
    "duration": 14,
    "start_time": "2025-02-04T19:47:52.314Z"
   },
   {
    "duration": 9,
    "start_time": "2025-02-04T19:48:14.535Z"
   },
   {
    "duration": 17,
    "start_time": "2025-02-04T19:48:33.422Z"
   },
   {
    "duration": 6,
    "start_time": "2025-02-04T19:49:08.287Z"
   },
   {
    "duration": 1514,
    "start_time": "2025-02-05T17:49:15.186Z"
   },
   {
    "duration": 58,
    "start_time": "2025-02-05T17:49:16.702Z"
   },
   {
    "duration": 10,
    "start_time": "2025-02-05T17:49:16.761Z"
   },
   {
    "duration": 20,
    "start_time": "2025-02-05T17:49:16.773Z"
   },
   {
    "duration": 33,
    "start_time": "2025-02-05T17:49:16.794Z"
   },
   {
    "duration": 283,
    "start_time": "2025-02-05T17:49:16.828Z"
   },
   {
    "duration": 764,
    "start_time": "2025-02-05T17:49:17.113Z"
   },
   {
    "duration": 146,
    "start_time": "2025-02-05T17:49:17.878Z"
   },
   {
    "duration": 151,
    "start_time": "2025-02-05T17:49:18.025Z"
   },
   {
    "duration": 18,
    "start_time": "2025-02-05T17:49:18.178Z"
   },
   {
    "duration": 21,
    "start_time": "2025-02-05T17:49:18.198Z"
   },
   {
    "duration": 23,
    "start_time": "2025-02-05T17:49:18.221Z"
   },
   {
    "duration": 164,
    "start_time": "2025-02-05T17:49:56.991Z"
   },
   {
    "duration": 219,
    "start_time": "2025-02-05T17:53:29.310Z"
   },
   {
    "duration": 45,
    "start_time": "2025-02-05T18:00:16.944Z"
   },
   {
    "duration": 8,
    "start_time": "2025-02-05T18:00:28.855Z"
   },
   {
    "duration": 1687,
    "start_time": "2025-02-05T18:01:32.048Z"
   },
   {
    "duration": 49,
    "start_time": "2025-02-05T18:01:33.736Z"
   },
   {
    "duration": 10,
    "start_time": "2025-02-05T18:01:33.786Z"
   },
   {
    "duration": 8,
    "start_time": "2025-02-05T18:01:33.797Z"
   },
   {
    "duration": 26,
    "start_time": "2025-02-05T18:01:33.807Z"
   },
   {
    "duration": 8,
    "start_time": "2025-02-05T18:01:33.835Z"
   },
   {
    "duration": 269,
    "start_time": "2025-02-05T18:01:33.844Z"
   },
   {
    "duration": 652,
    "start_time": "2025-02-05T18:01:34.114Z"
   },
   {
    "duration": 154,
    "start_time": "2025-02-05T18:01:34.768Z"
   },
   {
    "duration": 138,
    "start_time": "2025-02-05T18:01:34.923Z"
   },
   {
    "duration": 18,
    "start_time": "2025-02-05T18:01:35.062Z"
   },
   {
    "duration": 14,
    "start_time": "2025-02-05T18:01:35.082Z"
   },
   {
    "duration": 9,
    "start_time": "2025-02-05T18:01:35.097Z"
   },
   {
    "duration": 4,
    "start_time": "2025-02-05T18:02:58.728Z"
   },
   {
    "duration": 174,
    "start_time": "2025-02-05T18:17:15.134Z"
   },
   {
    "duration": 805,
    "start_time": "2025-02-05T18:27:42.296Z"
   },
   {
    "duration": 914,
    "start_time": "2025-02-05T18:28:33.484Z"
   },
   {
    "duration": 810,
    "start_time": "2025-02-05T18:35:28.355Z"
   },
   {
    "duration": 823,
    "start_time": "2025-02-05T18:35:48.267Z"
   },
   {
    "duration": 835,
    "start_time": "2025-02-05T18:36:11.954Z"
   },
   {
    "duration": 725,
    "start_time": "2025-02-05T18:36:19.863Z"
   },
   {
    "duration": 768,
    "start_time": "2025-02-05T18:36:38.312Z"
   },
   {
    "duration": 16,
    "start_time": "2025-02-05T18:39:41.811Z"
   },
   {
    "duration": 1518,
    "start_time": "2025-02-05T18:40:17.336Z"
   },
   {
    "duration": 47,
    "start_time": "2025-02-05T18:40:18.857Z"
   },
   {
    "duration": 11,
    "start_time": "2025-02-05T18:40:18.907Z"
   },
   {
    "duration": 9,
    "start_time": "2025-02-05T18:40:18.920Z"
   },
   {
    "duration": 10,
    "start_time": "2025-02-05T18:40:18.931Z"
   },
   {
    "duration": 18,
    "start_time": "2025-02-05T18:40:18.943Z"
   },
   {
    "duration": 283,
    "start_time": "2025-02-05T18:40:18.963Z"
   },
   {
    "duration": 769,
    "start_time": "2025-02-05T18:40:19.247Z"
   },
   {
    "duration": 189,
    "start_time": "2025-02-05T18:40:20.017Z"
   },
   {
    "duration": 154,
    "start_time": "2025-02-05T18:40:20.208Z"
   },
   {
    "duration": 934,
    "start_time": "2025-02-05T18:40:20.364Z"
   },
   {
    "duration": 13,
    "start_time": "2025-02-05T18:40:21.300Z"
   },
   {
    "duration": 92,
    "start_time": "2025-02-05T18:40:21.315Z"
   },
   {
    "duration": 0,
    "start_time": "2025-02-05T18:40:21.409Z"
   },
   {
    "duration": 0,
    "start_time": "2025-02-05T18:40:21.411Z"
   },
   {
    "duration": 113,
    "start_time": "2025-02-05T18:43:49.339Z"
   },
   {
    "duration": 19,
    "start_time": "2025-02-05T18:44:11.561Z"
   },
   {
    "duration": 22,
    "start_time": "2025-02-05T18:45:04.883Z"
   },
   {
    "duration": 20,
    "start_time": "2025-02-05T18:45:41.559Z"
   },
   {
    "duration": 73,
    "start_time": "2025-02-05T20:23:48.821Z"
   },
   {
    "duration": 82,
    "start_time": "2025-02-05T20:24:00.922Z"
   },
   {
    "duration": 0,
    "start_time": "2025-02-05T20:24:01.006Z"
   },
   {
    "duration": 0,
    "start_time": "2025-02-05T20:24:01.007Z"
   },
   {
    "duration": 0,
    "start_time": "2025-02-05T20:24:01.007Z"
   },
   {
    "duration": 0,
    "start_time": "2025-02-05T20:24:01.008Z"
   },
   {
    "duration": 0,
    "start_time": "2025-02-05T20:24:01.009Z"
   },
   {
    "duration": 0,
    "start_time": "2025-02-05T20:24:01.010Z"
   },
   {
    "duration": 0,
    "start_time": "2025-02-05T20:24:01.012Z"
   },
   {
    "duration": 0,
    "start_time": "2025-02-05T20:24:01.013Z"
   },
   {
    "duration": 0,
    "start_time": "2025-02-05T20:24:01.013Z"
   },
   {
    "duration": 0,
    "start_time": "2025-02-05T20:24:01.014Z"
   },
   {
    "duration": 0,
    "start_time": "2025-02-05T20:24:01.016Z"
   },
   {
    "duration": 0,
    "start_time": "2025-02-05T20:24:01.017Z"
   },
   {
    "duration": 0,
    "start_time": "2025-02-05T20:24:01.018Z"
   },
   {
    "duration": 0,
    "start_time": "2025-02-05T20:24:01.020Z"
   },
   {
    "duration": 0,
    "start_time": "2025-02-05T20:24:01.020Z"
   },
   {
    "duration": 1528,
    "start_time": "2025-02-05T20:24:06.775Z"
   },
   {
    "duration": 45,
    "start_time": "2025-02-05T20:24:39.410Z"
   },
   {
    "duration": 1378,
    "start_time": "2025-02-05T20:25:00.419Z"
   },
   {
    "duration": 48,
    "start_time": "2025-02-05T20:25:01.799Z"
   },
   {
    "duration": 11,
    "start_time": "2025-02-05T20:25:01.848Z"
   },
   {
    "duration": 16,
    "start_time": "2025-02-05T20:25:01.861Z"
   },
   {
    "duration": 52,
    "start_time": "2025-02-05T20:25:01.879Z"
   },
   {
    "duration": 12,
    "start_time": "2025-02-05T20:25:01.933Z"
   },
   {
    "duration": 1664,
    "start_time": "2025-02-05T20:25:01.946Z"
   },
   {
    "duration": 0,
    "start_time": "2025-02-05T20:25:03.612Z"
   },
   {
    "duration": 0,
    "start_time": "2025-02-05T20:25:03.614Z"
   },
   {
    "duration": 0,
    "start_time": "2025-02-05T20:25:03.616Z"
   },
   {
    "duration": 0,
    "start_time": "2025-02-05T20:25:03.617Z"
   },
   {
    "duration": 0,
    "start_time": "2025-02-05T20:25:03.618Z"
   },
   {
    "duration": 0,
    "start_time": "2025-02-05T20:25:03.620Z"
   },
   {
    "duration": 0,
    "start_time": "2025-02-05T20:25:03.621Z"
   },
   {
    "duration": 0,
    "start_time": "2025-02-05T20:25:03.623Z"
   },
   {
    "duration": 0,
    "start_time": "2025-02-05T20:25:03.624Z"
   },
   {
    "duration": 322,
    "start_time": "2025-02-05T20:26:08.595Z"
   },
   {
    "duration": 636,
    "start_time": "2025-02-05T20:26:10.500Z"
   },
   {
    "duration": 177,
    "start_time": "2025-02-05T20:26:11.138Z"
   },
   {
    "duration": 140,
    "start_time": "2025-02-05T20:26:11.317Z"
   },
   {
    "duration": 828,
    "start_time": "2025-02-05T20:26:11.459Z"
   },
   {
    "duration": 20,
    "start_time": "2025-02-05T20:26:12.289Z"
   },
   {
    "duration": 81,
    "start_time": "2025-02-05T20:26:12.311Z"
   },
   {
    "duration": 0,
    "start_time": "2025-02-05T20:26:12.394Z"
   },
   {
    "duration": 0,
    "start_time": "2025-02-05T20:26:12.395Z"
   },
   {
    "duration": 0,
    "start_time": "2025-02-05T20:26:12.396Z"
   },
   {
    "duration": 12,
    "start_time": "2025-02-05T20:32:13.543Z"
   },
   {
    "duration": 6,
    "start_time": "2025-02-05T20:32:25.057Z"
   },
   {
    "duration": 12,
    "start_time": "2025-02-05T20:32:40.866Z"
   },
   {
    "duration": 5,
    "start_time": "2025-02-05T20:34:31.015Z"
   },
   {
    "duration": 8,
    "start_time": "2025-02-05T20:34:32.350Z"
   },
   {
    "duration": 12,
    "start_time": "2025-02-05T20:34:36.850Z"
   },
   {
    "duration": 10,
    "start_time": "2025-02-05T20:34:49.238Z"
   },
   {
    "duration": 6,
    "start_time": "2025-02-05T20:35:03.502Z"
   },
   {
    "duration": 21,
    "start_time": "2025-02-05T20:38:16.725Z"
   },
   {
    "duration": 11,
    "start_time": "2025-02-05T20:38:31.009Z"
   },
   {
    "duration": 3,
    "start_time": "2025-02-05T20:38:36.192Z"
   },
   {
    "duration": 5,
    "start_time": "2025-02-05T20:38:40.004Z"
   },
   {
    "duration": 12,
    "start_time": "2025-02-05T20:39:05.062Z"
   },
   {
    "duration": 6,
    "start_time": "2025-02-05T20:39:11.636Z"
   },
   {
    "duration": 12,
    "start_time": "2025-02-05T20:39:34.049Z"
   },
   {
    "duration": 10,
    "start_time": "2025-02-05T20:41:45.455Z"
   },
   {
    "duration": 3,
    "start_time": "2025-02-05T20:42:06.413Z"
   },
   {
    "duration": 983,
    "start_time": "2025-02-05T20:42:17.529Z"
   },
   {
    "duration": 11,
    "start_time": "2025-02-05T20:43:26.405Z"
   },
   {
    "duration": 15,
    "start_time": "2025-02-05T20:43:30.188Z"
   },
   {
    "duration": 13,
    "start_time": "2025-02-05T20:44:01.659Z"
   },
   {
    "duration": 8,
    "start_time": "2025-02-05T20:44:10.362Z"
   },
   {
    "duration": 7,
    "start_time": "2025-02-05T20:44:43.626Z"
   },
   {
    "duration": 11,
    "start_time": "2025-02-05T20:44:45.523Z"
   },
   {
    "duration": 2,
    "start_time": "2025-02-05T20:44:48.848Z"
   },
   {
    "duration": 2,
    "start_time": "2025-02-05T20:45:02.006Z"
   },
   {
    "duration": 5,
    "start_time": "2025-02-05T20:47:42.367Z"
   },
   {
    "duration": 4,
    "start_time": "2025-02-05T20:48:48.097Z"
   },
   {
    "duration": 5,
    "start_time": "2025-02-05T20:49:48.853Z"
   },
   {
    "duration": 1473,
    "start_time": "2025-02-05T20:55:32.239Z"
   },
   {
    "duration": 47,
    "start_time": "2025-02-05T20:55:33.713Z"
   },
   {
    "duration": 9,
    "start_time": "2025-02-05T20:55:33.762Z"
   },
   {
    "duration": 15,
    "start_time": "2025-02-05T20:55:33.773Z"
   },
   {
    "duration": 35,
    "start_time": "2025-02-05T20:55:33.789Z"
   },
   {
    "duration": 7,
    "start_time": "2025-02-05T20:55:33.826Z"
   },
   {
    "duration": 250,
    "start_time": "2025-02-05T20:55:33.835Z"
   },
   {
    "duration": 737,
    "start_time": "2025-02-05T20:55:34.087Z"
   },
   {
    "duration": 179,
    "start_time": "2025-02-05T20:55:34.825Z"
   },
   {
    "duration": 144,
    "start_time": "2025-02-05T20:55:35.006Z"
   },
   {
    "duration": 837,
    "start_time": "2025-02-05T20:55:35.155Z"
   },
   {
    "duration": 5,
    "start_time": "2025-02-05T20:55:35.994Z"
   },
   {
    "duration": 48,
    "start_time": "2025-02-05T20:55:36.000Z"
   },
   {
    "duration": 38,
    "start_time": "2025-02-05T20:55:36.050Z"
   },
   {
    "duration": 45,
    "start_time": "2025-02-05T20:55:36.089Z"
   },
   {
    "duration": 78,
    "start_time": "2025-02-05T20:55:36.136Z"
   },
   {
    "duration": 9318,
    "start_time": "2025-02-05T20:55:36.215Z"
   },
   {
    "duration": 1475,
    "start_time": "2025-02-05T21:06:18.743Z"
   },
   {
    "duration": 48,
    "start_time": "2025-02-05T21:06:20.220Z"
   },
   {
    "duration": 11,
    "start_time": "2025-02-05T21:06:20.269Z"
   },
   {
    "duration": 5,
    "start_time": "2025-02-05T21:06:20.281Z"
   },
   {
    "duration": 8,
    "start_time": "2025-02-05T21:06:20.287Z"
   },
   {
    "duration": 11,
    "start_time": "2025-02-05T21:06:20.296Z"
   },
   {
    "duration": 284,
    "start_time": "2025-02-05T21:06:20.308Z"
   },
   {
    "duration": 727,
    "start_time": "2025-02-05T21:06:20.593Z"
   },
   {
    "duration": 183,
    "start_time": "2025-02-05T21:06:21.321Z"
   },
   {
    "duration": 142,
    "start_time": "2025-02-05T21:06:21.505Z"
   },
   {
    "duration": 846,
    "start_time": "2025-02-05T21:06:21.648Z"
   },
   {
    "duration": 4,
    "start_time": "2025-02-05T21:06:22.495Z"
   },
   {
    "duration": 8,
    "start_time": "2025-02-05T21:06:22.501Z"
   },
   {
    "duration": 3,
    "start_time": "2025-02-05T21:06:22.512Z"
   },
   {
    "duration": 7,
    "start_time": "2025-02-05T21:06:22.516Z"
   },
   {
    "duration": 144,
    "start_time": "2025-02-05T21:06:22.524Z"
   },
   {
    "duration": 0,
    "start_time": "2025-02-05T21:06:22.670Z"
   },
   {
    "duration": 5,
    "start_time": "2025-02-05T21:06:36.957Z"
   },
   {
    "duration": 138,
    "start_time": "2025-02-05T21:06:39.447Z"
   },
   {
    "duration": 1463,
    "start_time": "2025-02-05T21:12:25.276Z"
   },
   {
    "duration": 47,
    "start_time": "2025-02-05T21:12:26.741Z"
   },
   {
    "duration": 9,
    "start_time": "2025-02-05T21:12:26.789Z"
   },
   {
    "duration": 12,
    "start_time": "2025-02-05T21:12:26.800Z"
   },
   {
    "duration": 16,
    "start_time": "2025-02-05T21:12:26.814Z"
   },
   {
    "duration": 34,
    "start_time": "2025-02-05T21:12:26.831Z"
   },
   {
    "duration": 270,
    "start_time": "2025-02-05T21:12:26.866Z"
   },
   {
    "duration": 711,
    "start_time": "2025-02-05T21:12:27.137Z"
   },
   {
    "duration": 176,
    "start_time": "2025-02-05T21:12:27.850Z"
   },
   {
    "duration": 147,
    "start_time": "2025-02-05T21:12:28.028Z"
   },
   {
    "duration": 811,
    "start_time": "2025-02-05T21:12:28.177Z"
   },
   {
    "duration": 117,
    "start_time": "2025-02-05T21:12:28.989Z"
   },
   {
    "duration": 0,
    "start_time": "2025-02-05T21:12:29.108Z"
   },
   {
    "duration": 0,
    "start_time": "2025-02-05T21:12:29.109Z"
   },
   {
    "duration": 0,
    "start_time": "2025-02-05T21:12:29.110Z"
   },
   {
    "duration": 0,
    "start_time": "2025-02-05T21:12:29.111Z"
   },
   {
    "duration": 0,
    "start_time": "2025-02-05T21:12:29.112Z"
   },
   {
    "duration": 1159,
    "start_time": "2025-02-05T21:12:36.521Z"
   },
   {
    "duration": 18,
    "start_time": "2025-02-05T21:12:48.138Z"
   },
   {
    "duration": 23,
    "start_time": "2025-02-05T21:13:09.719Z"
   },
   {
    "duration": 18,
    "start_time": "2025-02-05T21:14:12.291Z"
   },
   {
    "duration": 20,
    "start_time": "2025-02-05T21:14:15.423Z"
   },
   {
    "duration": 78,
    "start_time": "2025-02-05T21:14:56.768Z"
   },
   {
    "duration": 9,
    "start_time": "2025-02-05T21:15:09.221Z"
   },
   {
    "duration": 11,
    "start_time": "2025-02-05T21:15:12.061Z"
   },
   {
    "duration": 1417,
    "start_time": "2025-02-05T21:16:09.796Z"
   },
   {
    "duration": 49,
    "start_time": "2025-02-05T21:16:11.215Z"
   },
   {
    "duration": 10,
    "start_time": "2025-02-05T21:16:11.266Z"
   },
   {
    "duration": 4,
    "start_time": "2025-02-05T21:16:11.278Z"
   },
   {
    "duration": 10,
    "start_time": "2025-02-05T21:16:11.284Z"
   },
   {
    "duration": 11,
    "start_time": "2025-02-05T21:16:11.296Z"
   },
   {
    "duration": 293,
    "start_time": "2025-02-05T21:16:11.308Z"
   },
   {
    "duration": 732,
    "start_time": "2025-02-05T21:16:11.603Z"
   },
   {
    "duration": 190,
    "start_time": "2025-02-05T21:16:12.336Z"
   },
   {
    "duration": 165,
    "start_time": "2025-02-05T21:16:12.528Z"
   },
   {
    "duration": 809,
    "start_time": "2025-02-05T21:16:12.694Z"
   },
   {
    "duration": 25,
    "start_time": "2025-02-05T21:16:13.505Z"
   },
   {
    "duration": 8,
    "start_time": "2025-02-05T21:16:13.531Z"
   },
   {
    "duration": 11,
    "start_time": "2025-02-05T21:16:13.554Z"
   },
   {
    "duration": 10,
    "start_time": "2025-02-05T21:16:13.566Z"
   },
   {
    "duration": 13,
    "start_time": "2025-02-05T21:16:13.577Z"
   },
   {
    "duration": 543,
    "start_time": "2025-02-05T21:16:13.592Z"
   },
   {
    "duration": 23,
    "start_time": "2025-02-05T21:18:55.545Z"
   },
   {
    "duration": 10,
    "start_time": "2025-02-05T21:19:01.308Z"
   },
   {
    "duration": 11,
    "start_time": "2025-02-05T21:19:03.760Z"
   },
   {
    "duration": 3,
    "start_time": "2025-02-05T21:19:07.041Z"
   },
   {
    "duration": 5,
    "start_time": "2025-02-05T21:19:08.798Z"
   },
   {
    "duration": 748,
    "start_time": "2025-02-05T21:19:11.247Z"
   },
   {
    "duration": 7,
    "start_time": "2025-02-05T21:26:03.026Z"
   },
   {
    "duration": 14,
    "start_time": "2025-02-05T21:26:31.859Z"
   },
   {
    "duration": 6,
    "start_time": "2025-02-05T21:26:36.926Z"
   },
   {
    "duration": 7,
    "start_time": "2025-02-05T21:26:54.223Z"
   },
   {
    "duration": 1503,
    "start_time": "2025-02-05T21:28:17.121Z"
   },
   {
    "duration": 48,
    "start_time": "2025-02-05T21:28:18.626Z"
   },
   {
    "duration": 10,
    "start_time": "2025-02-05T21:28:18.676Z"
   },
   {
    "duration": 4,
    "start_time": "2025-02-05T21:28:18.688Z"
   },
   {
    "duration": 17,
    "start_time": "2025-02-05T21:28:18.694Z"
   },
   {
    "duration": 29,
    "start_time": "2025-02-05T21:28:18.713Z"
   },
   {
    "duration": 259,
    "start_time": "2025-02-05T21:28:18.744Z"
   },
   {
    "duration": 709,
    "start_time": "2025-02-05T21:28:19.005Z"
   },
   {
    "duration": 181,
    "start_time": "2025-02-05T21:28:19.716Z"
   },
   {
    "duration": 140,
    "start_time": "2025-02-05T21:28:19.898Z"
   },
   {
    "duration": 845,
    "start_time": "2025-02-05T21:28:20.040Z"
   },
   {
    "duration": 24,
    "start_time": "2025-02-05T21:28:20.887Z"
   },
   {
    "duration": 8,
    "start_time": "2025-02-05T21:28:20.913Z"
   },
   {
    "duration": 11,
    "start_time": "2025-02-05T21:28:20.923Z"
   },
   {
    "duration": 20,
    "start_time": "2025-02-05T21:28:20.935Z"
   },
   {
    "duration": 4,
    "start_time": "2025-02-05T21:28:20.957Z"
   },
   {
    "duration": 764,
    "start_time": "2025-02-05T21:28:20.963Z"
   },
   {
    "duration": 8,
    "start_time": "2025-02-05T21:28:21.728Z"
   },
   {
    "duration": 5,
    "start_time": "2025-02-05T21:31:03.648Z"
   },
   {
    "duration": 775,
    "start_time": "2025-02-05T21:31:04.705Z"
   },
   {
    "duration": 5,
    "start_time": "2025-02-05T21:33:04.338Z"
   },
   {
    "duration": 644,
    "start_time": "2025-02-05T21:33:07.356Z"
   },
   {
    "duration": 9,
    "start_time": "2025-02-05T21:33:12.911Z"
   },
   {
    "duration": 5,
    "start_time": "2025-02-05T21:33:50.645Z"
   },
   {
    "duration": 13621,
    "start_time": "2025-02-05T21:33:52.479Z"
   },
   {
    "duration": 31,
    "start_time": "2025-02-05T21:34:08.915Z"
   },
   {
    "duration": 1462,
    "start_time": "2025-02-05T21:34:33.659Z"
   },
   {
    "duration": 48,
    "start_time": "2025-02-05T21:34:35.123Z"
   },
   {
    "duration": 11,
    "start_time": "2025-02-05T21:34:35.173Z"
   },
   {
    "duration": 38,
    "start_time": "2025-02-05T21:34:35.185Z"
   },
   {
    "duration": 12,
    "start_time": "2025-02-05T21:34:35.225Z"
   },
   {
    "duration": 8,
    "start_time": "2025-02-05T21:34:35.239Z"
   },
   {
    "duration": 269,
    "start_time": "2025-02-05T21:34:35.248Z"
   },
   {
    "duration": 720,
    "start_time": "2025-02-05T21:34:35.518Z"
   },
   {
    "duration": 180,
    "start_time": "2025-02-05T21:34:36.240Z"
   },
   {
    "duration": 156,
    "start_time": "2025-02-05T21:34:36.422Z"
   },
   {
    "duration": 823,
    "start_time": "2025-02-05T21:34:36.579Z"
   },
   {
    "duration": 25,
    "start_time": "2025-02-05T21:34:37.403Z"
   },
   {
    "duration": 11,
    "start_time": "2025-02-05T21:34:37.429Z"
   },
   {
    "duration": 16,
    "start_time": "2025-02-05T21:34:37.459Z"
   },
   {
    "duration": 26,
    "start_time": "2025-02-05T21:34:37.477Z"
   },
   {
    "duration": 9,
    "start_time": "2025-02-05T21:34:37.505Z"
   },
   {
    "duration": 27707,
    "start_time": "2025-02-05T21:34:37.515Z"
   },
   {
    "duration": 40,
    "start_time": "2025-02-05T21:35:05.223Z"
   },
   {
    "duration": 1782,
    "start_time": "2025-02-06T15:15:39.040Z"
   },
   {
    "duration": 102,
    "start_time": "2025-02-06T15:15:40.824Z"
   },
   {
    "duration": 11,
    "start_time": "2025-02-06T15:15:40.928Z"
   },
   {
    "duration": 19,
    "start_time": "2025-02-06T15:15:40.941Z"
   },
   {
    "duration": 10,
    "start_time": "2025-02-06T15:15:40.964Z"
   },
   {
    "duration": 36,
    "start_time": "2025-02-06T15:15:40.976Z"
   },
   {
    "duration": 297,
    "start_time": "2025-02-06T15:15:41.014Z"
   },
   {
    "duration": 893,
    "start_time": "2025-02-06T15:15:41.313Z"
   },
   {
    "duration": 201,
    "start_time": "2025-02-06T15:15:42.208Z"
   },
   {
    "duration": 169,
    "start_time": "2025-02-06T15:15:42.410Z"
   },
   {
    "duration": 1056,
    "start_time": "2025-02-06T15:15:42.581Z"
   },
   {
    "duration": 35,
    "start_time": "2025-02-06T15:15:43.639Z"
   },
   {
    "duration": 46,
    "start_time": "2025-02-06T15:15:43.676Z"
   },
   {
    "duration": 15,
    "start_time": "2025-02-06T15:15:43.724Z"
   },
   {
    "duration": 8,
    "start_time": "2025-02-06T15:15:43.740Z"
   },
   {
    "duration": 8,
    "start_time": "2025-02-06T15:15:43.750Z"
   },
   {
    "duration": 31428,
    "start_time": "2025-02-06T15:15:43.760Z"
   },
   {
    "duration": 37,
    "start_time": "2025-02-06T15:16:15.190Z"
   },
   {
    "duration": 1594,
    "start_time": "2025-02-06T16:17:21.843Z"
   },
   {
    "duration": 63,
    "start_time": "2025-02-06T16:17:23.439Z"
   },
   {
    "duration": 12,
    "start_time": "2025-02-06T16:17:23.503Z"
   },
   {
    "duration": 24,
    "start_time": "2025-02-06T16:17:23.517Z"
   },
   {
    "duration": 36,
    "start_time": "2025-02-06T16:17:23.544Z"
   },
   {
    "duration": 40,
    "start_time": "2025-02-06T16:17:23.582Z"
   },
   {
    "duration": 298,
    "start_time": "2025-02-06T16:17:23.624Z"
   },
   {
    "duration": 835,
    "start_time": "2025-02-06T16:17:23.924Z"
   },
   {
    "duration": 211,
    "start_time": "2025-02-06T16:17:24.762Z"
   },
   {
    "duration": 172,
    "start_time": "2025-02-06T16:17:24.974Z"
   },
   {
    "duration": 1179,
    "start_time": "2025-02-06T16:17:25.148Z"
   },
   {
    "duration": 31,
    "start_time": "2025-02-06T16:17:26.329Z"
   },
   {
    "duration": 15,
    "start_time": "2025-02-06T16:17:26.361Z"
   },
   {
    "duration": 18,
    "start_time": "2025-02-06T16:17:26.379Z"
   },
   {
    "duration": 28,
    "start_time": "2025-02-06T16:17:26.399Z"
   },
   {
    "duration": 28,
    "start_time": "2025-02-06T16:17:26.429Z"
   },
   {
    "duration": 48663,
    "start_time": "2025-02-06T16:17:26.459Z"
   },
   {
    "duration": 12,
    "start_time": "2025-02-06T16:18:15.124Z"
   },
   {
    "duration": 23,
    "start_time": "2025-02-06T17:17:13.370Z"
   },
   {
    "duration": 139,
    "start_time": "2025-02-06T17:17:37.521Z"
   },
   {
    "duration": 1625,
    "start_time": "2025-02-06T17:17:44.225Z"
   },
   {
    "duration": 55,
    "start_time": "2025-02-06T17:17:45.852Z"
   },
   {
    "duration": 13,
    "start_time": "2025-02-06T17:17:45.909Z"
   },
   {
    "duration": 33,
    "start_time": "2025-02-06T17:17:45.925Z"
   },
   {
    "duration": 15,
    "start_time": "2025-02-06T17:17:45.961Z"
   },
   {
    "duration": 41,
    "start_time": "2025-02-06T17:17:45.978Z"
   },
   {
    "duration": 298,
    "start_time": "2025-02-06T17:17:46.021Z"
   },
   {
    "duration": 829,
    "start_time": "2025-02-06T17:17:46.320Z"
   },
   {
    "duration": 219,
    "start_time": "2025-02-06T17:17:47.154Z"
   },
   {
    "duration": 208,
    "start_time": "2025-02-06T17:17:47.375Z"
   },
   {
    "duration": 946,
    "start_time": "2025-02-06T17:17:47.585Z"
   },
   {
    "duration": 160,
    "start_time": "2025-02-06T17:17:48.533Z"
   },
   {
    "duration": 0,
    "start_time": "2025-02-06T17:17:48.694Z"
   },
   {
    "duration": 0,
    "start_time": "2025-02-06T17:17:48.696Z"
   },
   {
    "duration": 0,
    "start_time": "2025-02-06T17:17:48.697Z"
   },
   {
    "duration": 0,
    "start_time": "2025-02-06T17:17:48.698Z"
   },
   {
    "duration": 0,
    "start_time": "2025-02-06T17:17:48.699Z"
   },
   {
    "duration": 0,
    "start_time": "2025-02-06T17:17:48.701Z"
   },
   {
    "duration": 1577,
    "start_time": "2025-02-06T17:18:24.682Z"
   },
   {
    "duration": 53,
    "start_time": "2025-02-06T17:18:26.261Z"
   },
   {
    "duration": 13,
    "start_time": "2025-02-06T17:18:26.317Z"
   },
   {
    "duration": 5,
    "start_time": "2025-02-06T17:18:26.332Z"
   },
   {
    "duration": 9,
    "start_time": "2025-02-06T17:18:26.357Z"
   },
   {
    "duration": 10,
    "start_time": "2025-02-06T17:18:26.368Z"
   },
   {
    "duration": 324,
    "start_time": "2025-02-06T17:18:26.380Z"
   },
   {
    "duration": 898,
    "start_time": "2025-02-06T17:18:26.706Z"
   },
   {
    "duration": 210,
    "start_time": "2025-02-06T17:18:27.606Z"
   },
   {
    "duration": 176,
    "start_time": "2025-02-06T17:18:27.818Z"
   },
   {
    "duration": 932,
    "start_time": "2025-02-06T17:18:27.996Z"
   },
   {
    "duration": 153,
    "start_time": "2025-02-06T17:18:28.930Z"
   },
   {
    "duration": 0,
    "start_time": "2025-02-06T17:18:29.085Z"
   },
   {
    "duration": 0,
    "start_time": "2025-02-06T17:18:29.087Z"
   },
   {
    "duration": 0,
    "start_time": "2025-02-06T17:18:29.088Z"
   },
   {
    "duration": 0,
    "start_time": "2025-02-06T17:18:29.089Z"
   },
   {
    "duration": 0,
    "start_time": "2025-02-06T17:18:29.090Z"
   },
   {
    "duration": 0,
    "start_time": "2025-02-06T17:18:29.091Z"
   },
   {
    "duration": 22,
    "start_time": "2025-02-06T17:20:20.218Z"
   },
   {
    "duration": 22,
    "start_time": "2025-02-06T17:20:44.154Z"
   },
   {
    "duration": 1581,
    "start_time": "2025-02-06T17:41:41.245Z"
   },
   {
    "duration": 55,
    "start_time": "2025-02-06T17:41:42.828Z"
   },
   {
    "duration": 12,
    "start_time": "2025-02-06T17:41:42.885Z"
   },
   {
    "duration": 38,
    "start_time": "2025-02-06T17:41:42.898Z"
   },
   {
    "duration": 56,
    "start_time": "2025-02-06T17:41:42.938Z"
   },
   {
    "duration": 56,
    "start_time": "2025-02-06T17:41:42.995Z"
   },
   {
    "duration": 319,
    "start_time": "2025-02-06T17:41:43.053Z"
   },
   {
    "duration": 796,
    "start_time": "2025-02-06T17:41:43.374Z"
   },
   {
    "duration": 207,
    "start_time": "2025-02-06T17:41:44.172Z"
   },
   {
    "duration": 174,
    "start_time": "2025-02-06T17:41:44.381Z"
   },
   {
    "duration": 1058,
    "start_time": "2025-02-06T17:41:44.556Z"
   },
   {
    "duration": 27,
    "start_time": "2025-02-06T17:41:45.616Z"
   },
   {
    "duration": 64,
    "start_time": "2025-02-06T17:41:45.656Z"
   },
   {
    "duration": 14,
    "start_time": "2025-02-06T17:41:45.723Z"
   },
   {
    "duration": 3,
    "start_time": "2025-02-06T17:41:45.739Z"
   },
   {
    "duration": 9,
    "start_time": "2025-02-06T17:41:45.744Z"
   },
   {
    "duration": 381,
    "start_time": "2025-02-06T17:41:45.754Z"
   },
   {
    "duration": 0,
    "start_time": "2025-02-06T17:41:46.136Z"
   },
   {
    "duration": 11,
    "start_time": "2025-02-06T17:42:41.867Z"
   },
   {
    "duration": 12,
    "start_time": "2025-02-06T17:42:46.848Z"
   },
   {
    "duration": 67,
    "start_time": "2025-02-06T17:42:46.862Z"
   },
   {
    "duration": 10,
    "start_time": "2025-02-06T17:42:46.931Z"
   },
   {
    "duration": 15,
    "start_time": "2025-02-06T17:42:46.943Z"
   },
   {
    "duration": 30915,
    "start_time": "2025-02-06T17:42:46.961Z"
   },
   {
    "duration": 43,
    "start_time": "2025-02-06T17:43:17.877Z"
   },
   {
    "duration": 490,
    "start_time": "2025-02-06T17:49:35.714Z"
   },
   {
    "duration": 15,
    "start_time": "2025-02-06T17:53:17.699Z"
   },
   {
    "duration": 12,
    "start_time": "2025-02-06T17:53:28.373Z"
   },
   {
    "duration": 13,
    "start_time": "2025-02-06T17:54:18.154Z"
   },
   {
    "duration": 269,
    "start_time": "2025-02-06T17:54:34.672Z"
   },
   {
    "duration": 272,
    "start_time": "2025-02-06T17:55:01.643Z"
   }
  ],
  "kernelspec": {
   "display_name": "Python 3 (ipykernel)",
   "language": "python",
   "name": "python3"
  },
  "language_info": {
   "codemirror_mode": {
    "name": "ipython",
    "version": 3
   },
   "file_extension": ".py",
   "mimetype": "text/x-python",
   "name": "python",
   "nbconvert_exporter": "python",
   "pygments_lexer": "ipython3",
   "version": "3.9.5"
  },
  "toc": {
   "base_numbering": 1,
   "nav_menu": {},
   "number_sections": true,
   "sideBar": true,
   "skip_h1_title": true,
   "title_cell": "Содержание",
   "title_sidebar": "Contents",
   "toc_cell": true,
   "toc_position": {},
   "toc_section_display": true,
   "toc_window_display": true
  }
 },
 "nbformat": 4,
 "nbformat_minor": 2
}
