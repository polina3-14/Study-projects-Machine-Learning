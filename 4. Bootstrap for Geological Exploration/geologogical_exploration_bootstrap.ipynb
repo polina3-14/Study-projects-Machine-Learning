{
 "cells": [
  {
   "cell_type": "markdown",
   "metadata": {},
   "source": [
    "# Выбор локации для скважины"
   ]
  },
  {
   "cell_type": "markdown",
   "metadata": {},
   "source": [
    "Допустим, вы работаете в добывающей компании «ГлавРосГосНефть». Нужно решить, где бурить новую скважину.\n",
    "\n",
    "Вам предоставлены пробы нефти в трёх регионах: в каждом 10 000 месторождений, где измерили качество нефти и объём её запасов. Постройте модель машинного обучения, которая поможет определить регион, где добыча принесёт наибольшую прибыль. Проанализируйте возможную прибыль и риски техникой *Bootstrap.*\n",
    "\n",
    "Шаги для выбора локации:\n",
    "\n",
    "- В избранном регионе ищут месторождения, для каждого определяют значения признаков;\n",
    "- Строят модель и оценивают объём запасов;\n",
    "- Выбирают месторождения с самым высокими оценками значений. Количество месторождений зависит от бюджета компании и стоимости разработки одной скважины;\n",
    "- Прибыль равна суммарной прибыли отобранных месторождений."
   ]
  },
  {
   "cell_type": "markdown",
   "metadata": {},
   "source": [
    "Условия задачи:   \n",
    "- Для обучения модели подходит только линейная регрессия (остальные — недостаточно предсказуемые).  \n",
    "- При разведке региона исследуют 500 точек, из которых с помощью машинного обучения выбирают 200 лучших для разработки.\n",
    "- Бюджет на разработку скважин в регионе — 10 млрд рублей.\n",
    "- При нынешних ценах один баррель сырья приносит 450 рублей дохода. Доход с каждой единицы продукта составляет 450 тыс. рублей, поскольку объём указан в тысячах баррелей. После оценки рисков нужно оставить лишь те регионы, в которых вероятность убытков меньше 2.5%. Среди них выбирают регион с наибольшей средней прибылью."
   ]
  },
  {
   "cell_type": "markdown",
   "metadata": {},
   "source": [
    "Установим и импортируем необходимые библиотеки"
   ]
  },
  {
   "cell_type": "code",
   "execution_count": 1,
   "metadata": {
    "trusted": true
   },
   "outputs": [],
   "source": [
    "!pip install phik -q"
   ]
  },
  {
   "cell_type": "code",
   "execution_count": 2,
   "metadata": {
    "trusted": true
   },
   "outputs": [],
   "source": [
    "import pandas as pd\n",
    "import matplotlib.pyplot as plt\n",
    "import seaborn as sns\n",
    "import numpy as np\n",
    "from sklearn.model_selection import train_test_split\n",
    "from sklearn.preprocessing import StandardScaler, MinMaxScaler\n",
    "from sklearn.linear_model import LinearRegression\n",
    "from sklearn.metrics import mean_squared_error, r2_score\n"
   ]
  },
  {
   "cell_type": "markdown",
   "metadata": {},
   "source": [
    "## Загрузка и подготовка данных"
   ]
  },
  {
   "cell_type": "markdown",
   "metadata": {},
   "source": [
    "Загрузим данные геологоразведки по трем регионам. Визуально оценим данные."
   ]
  },
  {
   "cell_type": "code",
   "execution_count": 3,
   "metadata": {
    "trusted": true
   },
   "outputs": [],
   "source": [
    "geo_data_0 = pd.read_csv('/datasets/geo_data_0.csv')\n",
    "geo_data_1 = pd.read_csv('/datasets/geo_data_1.csv')\n",
    "geo_data_2 = pd.read_csv('/datasets/geo_data_2.csv')"
   ]
  },
  {
   "cell_type": "code",
   "execution_count": 4,
   "metadata": {
    "trusted": true
   },
   "outputs": [
    {
     "data": {
      "text/html": [
       "<div>\n",
       "<style scoped>\n",
       "    .dataframe tbody tr th:only-of-type {\n",
       "        vertical-align: middle;\n",
       "    }\n",
       "\n",
       "    .dataframe tbody tr th {\n",
       "        vertical-align: top;\n",
       "    }\n",
       "\n",
       "    .dataframe thead th {\n",
       "        text-align: right;\n",
       "    }\n",
       "</style>\n",
       "<table border=\"1\" class=\"dataframe\">\n",
       "  <thead>\n",
       "    <tr style=\"text-align: right;\">\n",
       "      <th></th>\n",
       "      <th>id</th>\n",
       "      <th>f0</th>\n",
       "      <th>f1</th>\n",
       "      <th>f2</th>\n",
       "      <th>product</th>\n",
       "    </tr>\n",
       "  </thead>\n",
       "  <tbody>\n",
       "    <tr>\n",
       "      <th>0</th>\n",
       "      <td>txEyH</td>\n",
       "      <td>0.705745</td>\n",
       "      <td>-0.497823</td>\n",
       "      <td>1.221170</td>\n",
       "      <td>105.280062</td>\n",
       "    </tr>\n",
       "    <tr>\n",
       "      <th>1</th>\n",
       "      <td>2acmU</td>\n",
       "      <td>1.334711</td>\n",
       "      <td>-0.340164</td>\n",
       "      <td>4.365080</td>\n",
       "      <td>73.037750</td>\n",
       "    </tr>\n",
       "    <tr>\n",
       "      <th>2</th>\n",
       "      <td>409Wp</td>\n",
       "      <td>1.022732</td>\n",
       "      <td>0.151990</td>\n",
       "      <td>1.419926</td>\n",
       "      <td>85.265647</td>\n",
       "    </tr>\n",
       "    <tr>\n",
       "      <th>3</th>\n",
       "      <td>iJLyR</td>\n",
       "      <td>-0.032172</td>\n",
       "      <td>0.139033</td>\n",
       "      <td>2.978566</td>\n",
       "      <td>168.620776</td>\n",
       "    </tr>\n",
       "    <tr>\n",
       "      <th>4</th>\n",
       "      <td>Xdl7t</td>\n",
       "      <td>1.988431</td>\n",
       "      <td>0.155413</td>\n",
       "      <td>4.751769</td>\n",
       "      <td>154.036647</td>\n",
       "    </tr>\n",
       "  </tbody>\n",
       "</table>\n",
       "</div>"
      ],
      "text/plain": [
       "      id        f0        f1        f2     product\n",
       "0  txEyH  0.705745 -0.497823  1.221170  105.280062\n",
       "1  2acmU  1.334711 -0.340164  4.365080   73.037750\n",
       "2  409Wp  1.022732  0.151990  1.419926   85.265647\n",
       "3  iJLyR -0.032172  0.139033  2.978566  168.620776\n",
       "4  Xdl7t  1.988431  0.155413  4.751769  154.036647"
      ]
     },
     "execution_count": 4,
     "metadata": {},
     "output_type": "execute_result"
    }
   ],
   "source": [
    "geo_data_0.head()"
   ]
  },
  {
   "cell_type": "markdown",
   "metadata": {},
   "source": [
    "Обозначения столбцов:\n",
    "- _id_ -  уникальный идентификатор скважины;   \n",
    "- _f0, f1, f2_ — три признака точек (неважно, что они означают, но сами признаки значимы);   \n",
    "- _product_ — объём запасов в скважине (тыс. баррелей)."
   ]
  },
  {
   "cell_type": "code",
   "execution_count": 5,
   "metadata": {
    "trusted": true
   },
   "outputs": [
    {
     "name": "stdout",
     "output_type": "stream",
     "text": [
      "<class 'pandas.core.frame.DataFrame'>\n",
      "RangeIndex: 100000 entries, 0 to 99999\n",
      "Data columns (total 5 columns):\n",
      " #   Column   Non-Null Count   Dtype  \n",
      "---  ------   --------------   -----  \n",
      " 0   id       100000 non-null  object \n",
      " 1   f0       100000 non-null  float64\n",
      " 2   f1       100000 non-null  float64\n",
      " 3   f2       100000 non-null  float64\n",
      " 4   product  100000 non-null  float64\n",
      "dtypes: float64(4), object(1)\n",
      "memory usage: 3.8+ MB\n"
     ]
    }
   ],
   "source": [
    "geo_data_0.info()"
   ]
  },
  {
   "cell_type": "code",
   "execution_count": 6,
   "metadata": {
    "trusted": true
   },
   "outputs": [
    {
     "name": "stdout",
     "output_type": "stream",
     "text": [
      "<class 'pandas.core.frame.DataFrame'>\n",
      "RangeIndex: 100000 entries, 0 to 99999\n",
      "Data columns (total 5 columns):\n",
      " #   Column   Non-Null Count   Dtype  \n",
      "---  ------   --------------   -----  \n",
      " 0   id       100000 non-null  object \n",
      " 1   f0       100000 non-null  float64\n",
      " 2   f1       100000 non-null  float64\n",
      " 3   f2       100000 non-null  float64\n",
      " 4   product  100000 non-null  float64\n",
      "dtypes: float64(4), object(1)\n",
      "memory usage: 3.8+ MB\n"
     ]
    }
   ],
   "source": [
    "geo_data_1.info()"
   ]
  },
  {
   "cell_type": "code",
   "execution_count": 7,
   "metadata": {
    "trusted": true
   },
   "outputs": [
    {
     "name": "stdout",
     "output_type": "stream",
     "text": [
      "<class 'pandas.core.frame.DataFrame'>\n",
      "RangeIndex: 100000 entries, 0 to 99999\n",
      "Data columns (total 5 columns):\n",
      " #   Column   Non-Null Count   Dtype  \n",
      "---  ------   --------------   -----  \n",
      " 0   id       100000 non-null  object \n",
      " 1   f0       100000 non-null  float64\n",
      " 2   f1       100000 non-null  float64\n",
      " 3   f2       100000 non-null  float64\n",
      " 4   product  100000 non-null  float64\n",
      "dtypes: float64(4), object(1)\n",
      "memory usage: 3.8+ MB\n"
     ]
    }
   ],
   "source": [
    "geo_data_2.info()"
   ]
  },
  {
   "cell_type": "code",
   "execution_count": 8,
   "metadata": {
    "trusted": true
   },
   "outputs": [
    {
     "name": "stdout",
     "output_type": "stream",
     "text": [
      "Полных дубликатов в исходных датафреймах нет\n"
     ]
    }
   ],
   "source": [
    "table_list = [geo_data_0, geo_data_1, geo_data_2]\n",
    "duplicates = []\n",
    "for table in table_list:\n",
    "    duplicates.append(table.duplicated().sum())\n",
    "summa = sum(duplicates)\n",
    "if summa > 0:\n",
    "    print(f'Дубликаты обнаружены в {i for i, x in enumerate(duplicates) if x != 0}')\n",
    "else:\n",
    "    print('Полных дубликатов в исходных датафреймах нет')"
   ]
  },
  {
   "cell_type": "markdown",
   "metadata": {},
   "source": [
    "Проведем исследовательский анализ данных: проверим, есть ли выбросы, аномалии, некорректные значения."
   ]
  },
  {
   "cell_type": "code",
   "execution_count": 9,
   "metadata": {
    "scrolled": false,
    "trusted": true
   },
   "outputs": [
    {
     "name": "stdout",
     "output_type": "stream",
     "text": [
      "count    100000.000000\n",
      "mean          0.500419\n",
      "std           0.871832\n",
      "min          -1.408605\n",
      "25%          -0.072580\n",
      "50%           0.502360\n",
      "75%           1.073581\n",
      "max           2.362331\n",
      "Name: f0, dtype: float64\n"
     ]
    },
    {
     "data": {
      "image/png": "[encoded data removed]",
      "text/plain": [
       "<Figure size 720x360 with 1 Axes>"
      ]
     },
     "metadata": {
      "needs_background": "light"
     },
     "output_type": "display_data"
    },
    {
     "data": {
      "image/png": "[encoded data removed]",
      "text/plain": [
       "<Figure size 720x360 with 1 Axes>"
      ]
     },
     "metadata": {
      "needs_background": "light"
     },
     "output_type": "display_data"
    },
    {
     "name": "stdout",
     "output_type": "stream",
     "text": [
      "count    100000.000000\n",
      "mean          0.250143\n",
      "std           0.504433\n",
      "min          -0.848218\n",
      "25%          -0.200881\n",
      "50%           0.250252\n",
      "75%           0.700646\n",
      "max           1.343769\n",
      "Name: f1, dtype: float64\n"
     ]
    },
    {
     "data": {
      "image/png": "[encoded data removed]",
      "text/plain": [
       "<Figure size 720x360 with 1 Axes>"
      ]
     },
     "metadata": {
      "needs_background": "light"
     },
     "output_type": "display_data"
    },
    {
     "data": {
      "image/png": "[encoded data removed]",
      "text/plain": [
       "<Figure size 720x360 with 1 Axes>"
      ]
     },
     "metadata": {
      "needs_background": "light"
     },
     "output_type": "display_data"
    },
    {
     "name": "stdout",
     "output_type": "stream",
     "text": [
      "count    100000.000000\n",
      "mean          2.502647\n",
      "std           3.248248\n",
      "min         -12.088328\n",
      "25%           0.287748\n",
      "50%           2.515969\n",
      "75%           4.715088\n",
      "max          16.003790\n",
      "Name: f2, dtype: float64\n"
     ]
    },
    {
     "data": {
      "image/png": "[encoded data removed]",
      "text/plain": [
       "<Figure size 720x360 with 1 Axes>"
      ]
     },
     "metadata": {
      "needs_background": "light"
     },
     "output_type": "display_data"
    },
    {
     "data": {
      "image/png": "[encoded data removed]",
      "text/plain": [
       "<Figure size 720x360 with 1 Axes>"
      ]
     },
     "metadata": {
      "needs_background": "light"
     },
     "output_type": "display_data"
    },
    {
     "name": "stdout",
     "output_type": "stream",
     "text": [
      "count    100000.000000\n",
      "mean         92.500000\n",
      "std          44.288691\n",
      "min           0.000000\n",
      "25%          56.497507\n",
      "50%          91.849972\n",
      "75%         128.564089\n",
      "max         185.364347\n",
      "Name: product, dtype: float64\n"
     ]
    },
    {
     "data": {
      "image/png": "[encoded data removed]",
      "text/plain": [
       "<Figure size 720x360 with 1 Axes>"
      ]
     },
     "metadata": {
      "needs_background": "light"
     },
     "output_type": "display_data"
    },
    {
     "data": {
      "image/png": "[encoded data removed]",
      "text/plain": [
       "<Figure size 720x360 with 1 Axes>"
      ]
     },
     "metadata": {
      "needs_background": "light"
     },
     "output_type": "display_data"
    },
    {
     "name": "stdout",
     "output_type": "stream",
     "text": [
      "count    100000.000000\n",
      "mean          1.141296\n",
      "std           8.965932\n",
      "min         -31.609576\n",
      "25%          -6.298551\n",
      "50%           1.153055\n",
      "75%           8.621015\n",
      "max          29.421755\n",
      "Name: f0, dtype: float64\n"
     ]
    },
    {
     "data": {
      "image/png": "[encoded data removed]",
      "text/plain": [
       "<Figure size 720x360 with 1 Axes>"
      ]
     },
     "metadata": {
      "needs_background": "light"
     },
     "output_type": "display_data"
    },
    {
     "data": {
      "image/png": "[encoded data removed]",
      "text/plain": [
       "<Figure size 720x360 with 1 Axes>"
      ]
     },
     "metadata": {
      "needs_background": "light"
     },
     "output_type": "display_data"
    },
    {
     "name": "stdout",
     "output_type": "stream",
     "text": [
      "count    100000.000000\n",
      "mean         -4.796579\n",
      "std           5.119872\n",
      "min         -26.358598\n",
      "25%          -8.267985\n",
      "50%          -4.813172\n",
      "75%          -1.332816\n",
      "max          18.734063\n",
      "Name: f1, dtype: float64\n"
     ]
    },
    {
     "data": {
      "image/png": "[encoded data removed]",
      "text/plain": [
       "<Figure size 720x360 with 1 Axes>"
      ]
     },
     "metadata": {
      "needs_background": "light"
     },
     "output_type": "display_data"
    },
    {
     "data": {
      "image/png": "[encoded data removed]",
      "text/plain": [
       "<Figure size 720x360 with 1 Axes>"
      ]
     },
     "metadata": {
      "needs_background": "light"
     },
     "output_type": "display_data"
    },
    {
     "name": "stdout",
     "output_type": "stream",
     "text": [
      "count    100000.000000\n",
      "mean          2.494541\n",
      "std           1.703572\n",
      "min          -0.018144\n",
      "25%           1.000021\n",
      "50%           2.011479\n",
      "75%           3.999904\n",
      "max           5.019721\n",
      "Name: f2, dtype: float64\n"
     ]
    },
    {
     "data": {
      "image/png": "[encoded data removed]",
      "text/plain": [
       "<Figure size 720x360 with 1 Axes>"
      ]
     },
     "metadata": {
      "needs_background": "light"
     },
     "output_type": "display_data"
    },
    {
     "data": {
      "image/png": "[encoded data removed]",
      "text/plain": [
       "<Figure size 720x360 with 1 Axes>"
      ]
     },
     "metadata": {
      "needs_background": "light"
     },
     "output_type": "display_data"
    },
    {
     "name": "stdout",
     "output_type": "stream",
     "text": [
      "count    100000.000000\n",
      "mean         68.825000\n",
      "std          45.944423\n",
      "min           0.000000\n",
      "25%          26.953261\n",
      "50%          57.085625\n",
      "75%         107.813044\n",
      "max         137.945408\n",
      "Name: product, dtype: float64\n"
     ]
    },
    {
     "data": {
      "image/png": "[encoded data removed]",
      "text/plain": [
       "<Figure size 720x360 with 1 Axes>"
      ]
     },
     "metadata": {
      "needs_background": "light"
     },
     "output_type": "display_data"
    },
    {
     "data": {
      "image/png": "[encoded data removed]",
      "text/plain": [
       "<Figure size 720x360 with 1 Axes>"
      ]
     },
     "metadata": {
      "needs_background": "light"
     },
     "output_type": "display_data"
    },
    {
     "name": "stdout",
     "output_type": "stream",
     "text": [
      "count    100000.000000\n",
      "mean          0.002023\n",
      "std           1.732045\n",
      "min          -8.760004\n",
      "25%          -1.162288\n",
      "50%           0.009424\n",
      "75%           1.158535\n",
      "max           7.238262\n",
      "Name: f0, dtype: float64\n"
     ]
    },
    {
     "data": {
      "image/png": "[encoded data removed]",
      "text/plain": [
       "<Figure size 720x360 with 1 Axes>"
      ]
     },
     "metadata": {
      "needs_background": "light"
     },
     "output_type": "display_data"
    },
    {
     "data": {
      "image/png": "[encoded data removed]",
      "text/plain": [
       "<Figure size 720x360 with 1 Axes>"
      ]
     },
     "metadata": {
      "needs_background": "light"
     },
     "output_type": "display_data"
    },
    {
     "name": "stdout",
     "output_type": "stream",
     "text": [
      "count    100000.000000\n",
      "mean         -0.002081\n",
      "std           1.730417\n",
      "min          -7.084020\n",
      "25%          -1.174820\n",
      "50%          -0.009482\n",
      "75%           1.163678\n",
      "max           7.844801\n",
      "Name: f1, dtype: float64\n"
     ]
    },
    {
     "data": {
      "image/png": "[encoded data removed]",
      "text/plain": [
       "<Figure size 720x360 with 1 Axes>"
      ]
     },
     "metadata": {
      "needs_background": "light"
     },
     "output_type": "display_data"
    },
    {
     "data": {
      "image/png": "[encoded data removed]",
      "text/plain": [
       "<Figure size 720x360 with 1 Axes>"
      ]
     },
     "metadata": {
      "needs_background": "light"
     },
     "output_type": "display_data"
    },
    {
     "name": "stdout",
     "output_type": "stream",
     "text": [
      "count    100000.000000\n",
      "mean          2.495128\n",
      "std           3.473445\n",
      "min         -11.970335\n",
      "25%           0.130359\n",
      "50%           2.484236\n",
      "75%           4.858794\n",
      "max          16.739402\n",
      "Name: f2, dtype: float64\n"
     ]
    },
    {
     "data": {
      "image/png": "[encoded data removed]",
      "text/plain": [
       "<Figure size 720x360 with 1 Axes>"
      ]
     },
     "metadata": {
      "needs_background": "light"
     },
     "output_type": "display_data"
    },
    {
     "data": {
      "image/png": "[encoded data removed]",
      "text/plain": [
       "<Figure size 720x360 with 1 Axes>"
      ]
     },
     "metadata": {
      "needs_background": "light"
     },
     "output_type": "display_data"
    },
    {
     "name": "stdout",
     "output_type": "stream",
     "text": [
      "count    100000.000000\n",
      "mean         95.000000\n",
      "std          44.749921\n",
      "min           0.000000\n",
      "25%          59.450441\n",
      "50%          94.925613\n",
      "75%         130.595027\n",
      "max         190.029838\n",
      "Name: product, dtype: float64\n"
     ]
    },
    {
     "data": {
      "image/png": "[encoded data removed]",
      "text/plain": [
       "<Figure size 720x360 with 1 Axes>"
      ]
     },
     "metadata": {
      "needs_background": "light"
     },
     "output_type": "display_data"
    },
    {
     "data": {
      "image/png": "[encoded data removed]",
      "text/plain": [
       "<Figure size 720x360 with 1 Axes>"
      ]
     },
     "metadata": {
      "needs_background": "light"
     },
     "output_type": "display_data"
    }
   ],
   "source": [
    "# Используем функцию для исследовательского анализа количественных признаков\n",
    "def describe_numeric(dataframe, param, bins=30, color='violet'):\n",
    "    \"\"\" A function for exploratory analysis of numeric parameters\"\"\"\n",
    "    \n",
    "    # Описательная статистика\n",
    "    print(dataframe[param].describe())\n",
    "    \n",
    "    # Гистограмма\n",
    "    plt.figure(figsize=(10, 5))\n",
    "    plt.hist(dataframe[param], bins=bins, color='dodgerblue', edgecolor='black')\n",
    "    plt.title(f'Гистограмма распределения параметра {param} из таблицы {dataframe.name}')\n",
    "    plt.xlabel(f'{param}')\n",
    "    plt.ylabel('Частота')\n",
    "    plt.show()\n",
    "    \n",
    "    # Ящик с усами\n",
    "    plt.figure(figsize=(10, 5))\n",
    "    dataframe[param].plot.box(title=f'Ящик с усами для {param} из таблицы {dataframe.name}')\n",
    "    plt.show()\n",
    "\n",
    "for index, table in enumerate(table_list):\n",
    "    table.name = f'geo_data_ {index}' \n",
    "for table in table_list:\n",
    "    for parameter in geo_data_0.drop(columns=['id']).columns.tolist():\n",
    "        describe_numeric(table, parameter)"
   ]
  },
  {
   "cell_type": "markdown",
   "metadata": {},
   "source": [
    "Данных достаточно для анализа, выбросов и аномалий нет.  \n",
    "Все признаки количественные, при этом, скорее всего, все они непрерывные. Для таблицы geo_data_1 f2 - выглядит дискретным, при этом в других регионах f2 - непрерывный. Это может быть связано с некой погрешностью измерений в регионе 1: возможно, методы исследований, которые подходят для региона 0 и 2, не подходят для региона 1.  \n",
    "\n",
    "Для региона 0 (geo_data_0):  \n",
    " \n",
    "- f0 - принимает значения от -1.40 до 2.36, среднее 0.50. По наличию нескольких мод можно предположить, что данные внутри признака делятся на группы.  \n",
    "- f1 - принимает значения от -0.84 до 1.34, среднее 0.25. Бимодальное распределение.\n",
    "- f2 - принимает значения от -12.09 до 16, среднее 2.50, имеет нормальное распределение.\n",
    "- product - принимает значения от 0 до 185.36 тыс. баррелей, распределение близко к нормальному.   \n",
    "\n",
    "Для региона 1 (geo_data_1):  \n",
    "\n",
    "- f0 - принимает значения от -31.61 до 29.42, среднее 1.14. Бимодальное распределение.\n",
    "- f1 - принимает значения от -26.36 до 18.73, среднее -4.8. Нормальное распределение.\n",
    "- f2 - принимает значения от -0.02 до 5.02, среднее 2.49, данные распределяются на 6 групп. Возможно, это связано с методом исследования региона, дающем очень высокую погрешность для геологических отложений именно этого региона.\n",
    "- product - принимает значения от 0 до 137.95 тыс. баррелей, запасы делятся на группы, скорее всего, из-за признака f2.  \n",
    "\n",
    "Для региона 2 (geo_data_2):  \n",
    "\n",
    "- f0 - принимает значения от -8.76 до 7.24, среднее 0.00. Нормальное распределение.\n",
    "- f1 - принимает значения от -7.08 до 7.84, среднее -0.00. Нормальное распределение.\n",
    "- f2 - принимает значения от -11.97 до 16.74, среднее 2.50, имеет нормальное распределение.\n",
    "- product - принимает значения от 0 до 190.03 тыс. баррелей, распределение близко к нормальному.   \n",
    "\n"
   ]
  },
  {
   "cell_type": "markdown",
   "metadata": {},
   "source": [
    "Исследуем взаимосвязь между признаками c помощью коэффициента корреляции Пирсона, так как все признаки количественные и предполагается использование линейной модели."
   ]
  },
  {
   "cell_type": "code",
   "execution_count": 10,
   "metadata": {
    "trusted": true
   },
   "outputs": [
    {
     "data": {
      "image/png": "[encoded data removed]",
      "text/plain": [
       "<Figure size 864x720 with 2 Axes>"
      ]
     },
     "metadata": {
      "needs_background": "light"
     },
     "output_type": "display_data"
    },
    {
     "data": {
      "image/png": "[encoded data removed]",
      "text/plain": [
       "<Figure size 864x720 with 2 Axes>"
      ]
     },
     "metadata": {
      "needs_background": "light"
     },
     "output_type": "display_data"
    },
    {
     "data": {
      "image/png": "[encoded data removed]",
      "text/plain": [
       "<Figure size 864x720 with 2 Axes>"
      ]
     },
     "metadata": {
      "needs_background": "light"
     },
     "output_type": "display_data"
    }
   ],
   "source": [
    "columns = ['f0', 'f1', 'f2', 'product']\n",
    "def phik_corr(dataframe):\n",
    "    \"\"\" The function returns Pearson correlation matrix for each dataframe\"\"\"\n",
    "    plt.figure(figsize=(12,10))\n",
    "    plt.title(f'geo_data_ {index}')\n",
    "    sns.heatmap(dataframe[columns].corr(), annot=True)\n",
    "    plt.show()\n",
    "for table in table_list:\n",
    "    phik_corr(table)"
   ]
  },
  {
   "cell_type": "markdown",
   "metadata": {},
   "source": [
    "Мультиколлинеарности между входными признаками нет. Самое высокое влияние на запасы имеет признак f2. Для региона 1 (geo_data_1) он полностью влияет на целевой признак. Не совсем понятно, как это может быть в реальности..."
   ]
  },
  {
   "cell_type": "markdown",
   "metadata": {},
   "source": [
    "## Обучение и проверка модели"
   ]
  },
  {
   "cell_type": "markdown",
   "metadata": {},
   "source": [
    "Для предсказания объема запасов подготовим 3 модели для трех регионов, чтобы выбрать наиболее прибыльный регион."
   ]
  },
  {
   "cell_type": "code",
   "execution_count": 11,
   "metadata": {
    "trusted": true
   },
   "outputs": [],
   "source": [
    "# Обучим и оценим модели\n",
    "def train_evaluate_model(dataframe):\n",
    "    \"\"\"Функция для подготовки данных для обучения моделей, обучение моделей линейной регрессии,\n",
    "    предсказание значений и оценка качества предсказаний\"\"\"\n",
    "    # Подготовка данных\n",
    "    features = dataframe[['f0', 'f1', 'f2']]\n",
    "    target = dataframe['product']\n",
    "    \n",
    "    # Разделение данных на обучающую и валидационную выборки (75:25)\n",
    "    X_train, X_valid, y_train, y_valid = train_test_split(\n",
    "        features, target, test_size=0.25, random_state=42)\n",
    "    # Нормализация данных\n",
    "    scaler = StandardScaler()\n",
    "    X_train_scaled = scaler.fit_transform(X_train)\n",
    "    X_valid_scaled = scaler.transform(X_valid)\n",
    "    \n",
    "    # Инициализация и обучение модели линейной регрессии\n",
    "    model = LinearRegression()\n",
    "    model.fit(X_train_scaled, y_train)\n",
    "    # Предсказание целевого признака и оценка качества модели\n",
    "    predictions = model.predict(X_valid_scaled)\n",
    "    rmse = mean_squared_error(y_valid, predictions, squared=False)\n",
    "    mean_predicted_product = predictions.mean()\n",
    "    r2 = r2_score(y_valid, predictions)\n",
    "    \n",
    "    return predictions, y_valid, rmse, mean_predicted_product, r2\n",
    "\n",
    "results = {}\n",
    "all_results = []\n",
    "\n",
    "# Вызов функции для каждого региона\n",
    "for table in table_list:\n",
    "    predictions, y_valid, rmse, mean_predicted_product, r2 = train_evaluate_model(table)\n",
    "\n",
    "    # Сохранение результатов в словарь\n",
    "    results[table.name] = {\n",
    "        'predictions': predictions,\n",
    "        'real_values': y_valid,\n",
    "        'RMSE': rmse,\n",
    "        'mean_predicted_product': mean_predicted_product,\n",
    "        'R2': r2\n",
    "    }\n",
    "    table_name = table.name.replace(' ', '')\n",
    "    region_df = pd.DataFrame({\n",
    "        'region': table_name,\n",
    "        'real': y_valid,\n",
    "        'predicted': predictions\n",
    "    })\n",
    "    all_results.append(region_df)\n",
    "    \n",
    "     "
   ]
  },
  {
   "cell_type": "code",
   "execution_count": 12,
   "metadata": {
    "trusted": true
   },
   "outputs": [
    {
     "name": "stdout",
     "output_type": "stream",
     "text": [
      "\n",
      "Итоговые результаты по всем регионам:\n",
      "\n",
      "Регион: geo_data_ 0\n",
      "Средние запасы предсказанного сырья: 92 тыс. баррелей\n",
      "RMSE модели: 37.75660035026169\n",
      "R2 модели: 0.2728287328173471\n",
      "\n",
      "Регион: geo_data_ 1\n",
      "Средние запасы предсказанного сырья: 69 тыс. баррелей\n",
      "RMSE модели: 0.8902801001028846\n",
      "R2 модели: 0.9996245232002449\n",
      "\n",
      "Регион: geo_data_ 2\n",
      "Средние запасы предсказанного сырья: 95 тыс. баррелей\n",
      "RMSE модели: 40.145872311342174\n",
      "R2 модели: 0.19634705977280487\n"
     ]
    }
   ],
   "source": [
    "print('\\nИтоговые результаты по всем регионам:')\n",
    "for region, metrics in results.items():\n",
    "    print(f'\\nРегион: {region}')\n",
    "    print(f'Средние запасы предсказанного сырья: {round(metrics[\"mean_predicted_product\"])} тыс. баррелей')\n",
    "    print(f'RMSE модели: {metrics[\"RMSE\"]}')\n",
    "    print(f'R2 модели: {metrics[\"R2\"]}')"
   ]
  },
  {
   "cell_type": "markdown",
   "metadata": {},
   "source": [
    "Обучены модели линейной регрессии для каждого из регионов. С помощью метрики RMSE оценено качество моделей на валидационной выборке.  \n",
    "\n",
    "Наименьшая среднеквадратичная ошибка RMSE для региона 1 - наиболее точное предсказание запасов для региона 1 является самым минимальным по всем регионам (69 тыс. баррелей). \n",
    "Для ориентира также сравним модели по коэффициентам детерминации R2 - самая точная модель все так же для региона 1.  \n",
    "Средние запасы для региона 2 максимальны и составляют 95 тыс. баррелей, но и сравнительно высокая ошибка RMSE - 40 тыс.баррелей, что делает модель неточной."
   ]
  },
  {
   "cell_type": "markdown",
   "metadata": {},
   "source": [
    "## Подготовка к расчёту прибыли"
   ]
  },
  {
   "cell_type": "markdown",
   "metadata": {},
   "source": [
    "Сохраним ключевые значения в отдельных переменных, также создадим датафрейм с предсказанными и истинными значениями запасов по регионам."
   ]
  },
  {
   "cell_type": "code",
   "execution_count": 13,
   "metadata": {
    "scrolled": true,
    "trusted": true
   },
   "outputs": [
    {
     "data": {
      "text/html": [
       "<div>\n",
       "<style scoped>\n",
       "    .dataframe tbody tr th:only-of-type {\n",
       "        vertical-align: middle;\n",
       "    }\n",
       "\n",
       "    .dataframe tbody tr th {\n",
       "        vertical-align: top;\n",
       "    }\n",
       "\n",
       "    .dataframe thead th {\n",
       "        text-align: right;\n",
       "    }\n",
       "</style>\n",
       "<table border=\"1\" class=\"dataframe\">\n",
       "  <thead>\n",
       "    <tr style=\"text-align: right;\">\n",
       "      <th></th>\n",
       "      <th>region</th>\n",
       "      <th>real</th>\n",
       "      <th>predicted</th>\n",
       "    </tr>\n",
       "  </thead>\n",
       "  <tbody>\n",
       "    <tr>\n",
       "      <th>0</th>\n",
       "      <td>geo_data_0</td>\n",
       "      <td>122.073350</td>\n",
       "      <td>101.901017</td>\n",
       "    </tr>\n",
       "    <tr>\n",
       "      <th>1</th>\n",
       "      <td>geo_data_0</td>\n",
       "      <td>48.738540</td>\n",
       "      <td>78.217774</td>\n",
       "    </tr>\n",
       "    <tr>\n",
       "      <th>2</th>\n",
       "      <td>geo_data_0</td>\n",
       "      <td>131.338088</td>\n",
       "      <td>115.266901</td>\n",
       "    </tr>\n",
       "    <tr>\n",
       "      <th>3</th>\n",
       "      <td>geo_data_0</td>\n",
       "      <td>88.327757</td>\n",
       "      <td>105.618618</td>\n",
       "    </tr>\n",
       "    <tr>\n",
       "      <th>4</th>\n",
       "      <td>geo_data_0</td>\n",
       "      <td>36.959266</td>\n",
       "      <td>97.980185</td>\n",
       "    </tr>\n",
       "  </tbody>\n",
       "</table>\n",
       "</div>"
      ],
      "text/plain": [
       "       region        real   predicted\n",
       "0  geo_data_0  122.073350  101.901017\n",
       "1  geo_data_0   48.738540   78.217774\n",
       "2  geo_data_0  131.338088  115.266901\n",
       "3  geo_data_0   88.327757  105.618618\n",
       "4  geo_data_0   36.959266   97.980185"
      ]
     },
     "execution_count": 13,
     "metadata": {},
     "output_type": "execute_result"
    }
   ],
   "source": [
    "# Бюджет в рублях\n",
    "budget = 10 * 10**9\n",
    "\n",
    "# Доход с одной тысячи баррелей\n",
    "thousand_barrel_revenue = 450000\n",
    "\n",
    "# Количество разрабатываемых скважин\n",
    "best_wells = 200\n",
    "\n",
    "# Количество скважин в регионе\n",
    "n_wells = 500\n",
    "\n",
    "# Количество итераций бутстрепа\n",
    "n_iterations=1000\n",
    "\n",
    "# Обозначим константу для воспроизводимости при каждом новом вызове\n",
    "state = np.random.RandomState(12345)\n",
    "\n",
    "# Создаём датафрейм с реальными и предсказанными значениями\n",
    "final_results = pd.concat(all_results, ignore_index=True)\n",
    "final_results.head()"
   ]
  },
  {
   "cell_type": "markdown",
   "metadata": {},
   "source": [
    "Рассчитаем минимальный объем запасов скважины для безубыточной разработки новой скважины."
   ]
  },
  {
   "cell_type": "code",
   "execution_count": 14,
   "metadata": {
    "scrolled": true,
    "trusted": true
   },
   "outputs": [
    {
     "name": "stdout",
     "output_type": "stream",
     "text": [
      "Достаточный объём запасов в новой скважине для безубыточности: 111 тыс. баррелей\n"
     ]
    }
   ],
   "source": [
    "# так как бюджет на планируемые 200 скважин известен, то каждая скважина должна приносить доход больше, \n",
    "# чем требуется для ее разработки\n",
    "min_product_for_profit = budget / (best_wells * thousand_barrel_revenue)\n",
    "print(f'Достаточный объём запасов в новой скважине для безубыточности: {round(min_product_for_profit)} тыс. баррелей')"
   ]
  },
  {
   "cell_type": "markdown",
   "metadata": {},
   "source": [
    "Расчитаем средний объем запасов по регионам."
   ]
  },
  {
   "cell_type": "code",
   "execution_count": 15,
   "metadata": {
    "scrolled": false,
    "trusted": true
   },
   "outputs": [
    {
     "data": {
      "text/plain": [
       "region\n",
       "geo_data_0    92.325956\n",
       "geo_data_1    68.725381\n",
       "geo_data_2    95.150999\n",
       "Name: real, dtype: float64"
      ]
     },
     "execution_count": 15,
     "metadata": {},
     "output_type": "execute_result"
    }
   ],
   "source": [
    "reserves = final_results.groupby('region')['real'].mean()\n",
    "reserves"
   ]
  },
  {
   "cell_type": "markdown",
   "metadata": {},
   "source": [
    "Если скважины в регионе должны обладать запасами не менее 111 тысяч баррелей, все регионы являются убыточными по среднему значению запасов. Однако выбирать для разработки будут 200 лучших: это значит, что среднее значение для них будет выше.   \n",
    "\n",
    "Подготовим функцию по расчету прибыли по 200 лучшим скважинам."
   ]
  },
  {
   "cell_type": "code",
   "execution_count": 16,
   "metadata": {
    "trusted": true
   },
   "outputs": [],
   "source": [
    "# Функция для расчета прибыли\n",
    "def calculate_profit(df, region):\n",
    "    # Выбираем регион\n",
    "    region = df[df['region']== region]\n",
    "    \n",
    "    # Список для хранения результатов прибыли\n",
    "    profit_distribution = []\n",
    "    \n",
    "    for i in range(n_iterations):\n",
    "        # Семплируем 500 скважин с возвращением\n",
    "        sampled_data = region.sample(n=n_wells, replace=True, random_state=state)\n",
    "    \n",
    "        # Сохраняем индексы лучших (топ-200) по предсказаниям запасов скважин\n",
    "        top_wells = sampled_data.sort_values(by='predicted', ascending=False).head(best_wells)\n",
    "    \n",
    "        # Находим реальные суммарные запасы в лучших скважинах\n",
    "        total_real_product = top_wells['real'].sum()\n",
    "    \n",
    "        # Выручка с 200 лучших скважин в рублях\n",
    "        revenue_top_200 = total_real_product * thousand_barrel_revenue\n",
    "    \n",
    "        # Прибыль с 200 лучших скважин в рублях\n",
    "        profit = revenue_top_200 - budget \n",
    "    \n",
    "        # Сохраняем результат в список\n",
    "        profit_distribution.append(profit)\n",
    "        \n",
    "    # Преобразовываем список в объект Series\n",
    "    profit_distribution = pd.Series(profit_distribution)\n",
    "    \n",
    "    return profit_distribution"
   ]
  },
  {
   "cell_type": "markdown",
   "metadata": {},
   "source": [
    "Все значения, необходимые для расчета прибыли от добычи нефти, сохранены в отдельных переменных.  \n",
    "Рассчитан минимальный объем запасов, которым должна обладать скважина для безубыточной разработки - 111 тыс. баррелей.  \n",
    "Если скважины в регионе должны обладать запасами не менее 111 тысяч баррелей, все регионы являются убыточными по среднему значению запасов в целом по региону. Однако выбирать для разработки будут 200 лучших: это значит, что среднее значение для них будет выше.  \n",
    "Для расчета прибыли для 200 лучших скважин подготовлена функция calculate_profit, возвращающая распределение прибыли для 200 лучших скважин отдельного региона."
   ]
  },
  {
   "cell_type": "markdown",
   "metadata": {},
   "source": [
    "## Расчёт прибыли и рисков "
   ]
  },
  {
   "cell_type": "markdown",
   "metadata": {},
   "source": [
    "Оценим каждый регион по средней прибыли от разработки 200 лучших по региону скважин, по 95%-му доверительному интервалу прибыли и по риску убытков."
   ]
  },
  {
   "cell_type": "code",
   "execution_count": 17,
   "metadata": {
    "trusted": true
   },
   "outputs": [],
   "source": [
    "def define_profit_risks(profit_distribution_region, region_index):\n",
    "    \"\"\" Функция, определяющая среднюю прибыль, 95% доверительный интервал и риск убытков для региона\"\"\"\n",
    "    # Средняя прибыль\n",
    "    mean = profit_distribution_region.mean()\n",
    "    \n",
    "    # 95%-й доверительный интервал\n",
    "    lower = profit_distribution_region.quantile(0.05)\n",
    "    upper = profit_distribution_region.quantile(0.95)\n",
    "    \n",
    "    # Риск убытков (доля отрицательных значений прибыли)\n",
    "    risk = (profit_distribution_region < 0).mean()\n",
    "    \n",
    "    # Создаем таблицу с результатами\n",
    "    results_table = pd.DataFrame({\n",
    "        'Регион': [region_index],\n",
    "        'Средняя прибыль (млн.руб)': [mean // 10**6],\n",
    "        '95% доверительный интервал - от (млн.руб)': [lower // 10**6],\n",
    "        '95% доверительный интервал - до (млн.руб)': [upper // 10**6],\n",
    "        'Риск убытков (%)': [risk * 100]\n",
    "    })\n",
    "    \n",
    "    return results_table"
   ]
  },
  {
   "cell_type": "code",
   "execution_count": 18,
   "metadata": {
    "trusted": true
   },
   "outputs": [],
   "source": [
    "# Вызовем подготовленные ранее функции и отобразим результат в общем датафрейме final_results_table\n",
    "profit_0 = calculate_profit(final_results, 'geo_data_0')\n",
    "profit_1 = calculate_profit(final_results, 'geo_data_1')\n",
    "profit_2 = calculate_profit(final_results, 'geo_data_2')\n",
    "\n",
    "region_0_summary = define_profit_risks(profit_0, 0)\n",
    "region_1_summary = define_profit_risks(profit_1, 1)\n",
    "region_2_summary = define_profit_risks(profit_2, 2)\n",
    "final_results_table = pd.concat([region_0_summary, region_1_summary, region_2_summary], ignore_index=True)"
   ]
  },
  {
   "cell_type": "code",
   "execution_count": 22,
   "metadata": {
    "trusted": true
   },
   "outputs": [
    {
     "data": {
      "text/html": [
       "<div>\n",
       "<style scoped>\n",
       "    .dataframe tbody tr th:only-of-type {\n",
       "        vertical-align: middle;\n",
       "    }\n",
       "\n",
       "    .dataframe tbody tr th {\n",
       "        vertical-align: top;\n",
       "    }\n",
       "\n",
       "    .dataframe thead th {\n",
       "        text-align: right;\n",
       "    }\n",
       "</style>\n",
       "<table border=\"1\" class=\"dataframe\">\n",
       "  <thead>\n",
       "    <tr style=\"text-align: right;\">\n",
       "      <th></th>\n",
       "      <th>Регион</th>\n",
       "      <th>Средняя прибыль (млн.руб)</th>\n",
       "      <th>95% доверительный интервал - от (млн.руб)</th>\n",
       "      <th>95% доверительный интервал - до (млн.руб)</th>\n",
       "      <th>Риск убытков (%)</th>\n",
       "    </tr>\n",
       "  </thead>\n",
       "  <tbody>\n",
       "    <tr>\n",
       "      <th>1</th>\n",
       "      <td>1</td>\n",
       "      <td>441.0</td>\n",
       "      <td>106.0</td>\n",
       "      <td>774.0</td>\n",
       "      <td>1.6</td>\n",
       "    </tr>\n",
       "    <tr>\n",
       "      <th>0</th>\n",
       "      <td>0</td>\n",
       "      <td>406.0</td>\n",
       "      <td>-50.0</td>\n",
       "      <td>847.0</td>\n",
       "      <td>6.7</td>\n",
       "    </tr>\n",
       "    <tr>\n",
       "      <th>2</th>\n",
       "      <td>2</td>\n",
       "      <td>385.0</td>\n",
       "      <td>-75.0</td>\n",
       "      <td>822.0</td>\n",
       "      <td>7.8</td>\n",
       "    </tr>\n",
       "  </tbody>\n",
       "</table>\n",
       "</div>"
      ],
      "text/plain": [
       "   Регион  Средняя прибыль (млн.руб)  \\\n",
       "1       1                      441.0   \n",
       "0       0                      406.0   \n",
       "2       2                      385.0   \n",
       "\n",
       "   95% доверительный интервал - от (млн.руб)  \\\n",
       "1                                      106.0   \n",
       "0                                      -50.0   \n",
       "2                                      -75.0   \n",
       "\n",
       "   95% доверительный интервал - до (млн.руб)  Риск убытков (%)  \n",
       "1                                      774.0               1.6  \n",
       "0                                      847.0               6.7  \n",
       "2                                      822.0               7.8  "
      ]
     },
     "execution_count": 22,
     "metadata": {},
     "output_type": "execute_result"
    }
   ],
   "source": [
    "final_results_table.sort_values(by='Средняя прибыль (млн.руб)', ascending=False)"
   ]
  },
  {
   "cell_type": "markdown",
   "metadata": {},
   "source": [
    "По 200 лучшим скважинам в трех регионах оценена средняя прибыль в миллионах рублей, 95% доверительный интервал распределения прибыли и риск убытков.  \n",
    "- Для региона 0 средняя прибыль составляет 406 млн. рублей, с вероятностью 95% прибыль (начиная с убытка) распределяется от -50 до 847 млн. рублей; риск убытков равен 6.7%, что много для заданного условия.\n",
    "- Для региона 1 максимальная средняя прибыль среди всех регионов, она составляет 441 млн. рублей. Прибыль распределена от 106 до 774 млн. рублей с 95% вероятностью. Риск убытков минимальный - 1.6%.\n",
    "- Для региона 2 средняя прибыль 385 млн. рублей, 95% доверительный интервал распределения прибыли (убытков) от -75 до 822 млн. рублей. Риск убытков максимальный - составляет 7.8%.\n",
    "\n",
    "Так как по условию для разработки подходят только регионы с риском убытков менее 2.5%, можно предложить для разработки только 1-ый регион с риском убытков 1.6%. Регион 1 также может принести максимальную из трех прибыль. \n",
    "Таким образом, к разработке рекомендуется именно 1 регион с данными геологазведки в таблице geo_data_1."
   ]
  },
  {
   "cell_type": "markdown",
   "metadata": {},
   "source": [
    "## Вывод"
   ]
  },
  {
   "cell_type": "markdown",
   "metadata": {},
   "source": [
    "В результате выполнения проекта выбран регион, наиболее перспективный для добычи нефти. Для этого выполнено:\n",
    "- Исходные данные проверены на корректность, отсутствие дубликатов и пропусков.   \n",
    "- Проведен исследовательский анализ данных - проверено распределение данных, отсутствие аномалий, мультиколлинеарность между входными признаками.   \n",
    "- Обучены модели линейной регрессии для каждого из регионов. С помощью метрики RMSE оценено качество моделей на валидационной выборке. Наименьшая среднеквадратичная ошибка RMSE для региона 1 - наиболее точное предсказание запасов для региона 1 является самым минимальным по всем регионам (69 тыс. баррелей).  \n",
    "- Все значения, необходимые для расчета прибыли от добычи нефти, сохранены в отдельных переменных.  \n",
    "- Рассчитан минимальный объем запасов, которым должна обладать скважина для безубыточной разработки - 111 тыс. баррелей. \n",
    "- По 200 лучшим скважинам в трех регионах оценена средняя прибыль в миллионах рублей, 95% доверительный интервал распределения прибыли и риск убытков.\n",
    "- Для региона 1 максимальная средняя прибыль среди всех регионов, она составляет 441 млн. рублей. Прибыль распределена от 106 до 774 млн. рублей с 95% вероятностью. Риск убытков минимальный - 1.6%.   \n",
    "\n",
    "Так как по условию задачи для разработки подходят только регионы с риском убытков менее 2.5%, можно предложить для разработки только 1-ый регион с риском убытков 1.6%. Регион 1 также может принести максимальную из трех регионов среднюю прибыль.   \n",
    "Таким образом, к разработке рекомендуется именно 1 регион с данными геологазведки в таблице geo_data_1."
   ]
  }
 ],
 "metadata": {
  "ExecuteTimeLog": [
   {
    "duration": 336,
    "start_time": "2024-11-14T17:16:24.765Z"
   },
   {
    "duration": 949,
    "start_time": "2024-11-14T17:16:43.133Z"
   },
   {
    "duration": 18,
    "start_time": "2024-11-14T17:19:16.518Z"
   },
   {
    "duration": 19,
    "start_time": "2024-11-14T17:20:09.205Z"
   },
   {
    "duration": 17,
    "start_time": "2024-11-14T17:20:32.744Z"
   },
   {
    "duration": 26,
    "start_time": "2024-11-14T17:20:42.494Z"
   },
   {
    "duration": 65,
    "start_time": "2024-11-14T17:20:57.064Z"
   },
   {
    "duration": 9,
    "start_time": "2024-11-14T17:21:01.172Z"
   },
   {
    "duration": 50,
    "start_time": "2024-11-14T17:21:06.881Z"
   },
   {
    "duration": 42,
    "start_time": "2024-11-14T17:21:11.054Z"
   },
   {
    "duration": 58,
    "start_time": "2024-11-14T17:21:21.974Z"
   },
   {
    "duration": 379,
    "start_time": "2024-11-14T20:22:24.310Z"
   },
   {
    "duration": 799,
    "start_time": "2024-11-14T20:22:24.690Z"
   },
   {
    "duration": 13,
    "start_time": "2024-11-14T20:22:25.491Z"
   },
   {
    "duration": 12,
    "start_time": "2024-11-14T20:22:25.506Z"
   },
   {
    "duration": 11,
    "start_time": "2024-11-14T20:22:25.520Z"
   },
   {
    "duration": 11,
    "start_time": "2024-11-14T20:22:25.533Z"
   },
   {
    "duration": 55,
    "start_time": "2024-11-14T20:22:25.545Z"
   },
   {
    "duration": 0,
    "start_time": "2024-11-14T20:22:25.601Z"
   },
   {
    "duration": 0,
    "start_time": "2024-11-14T20:22:25.602Z"
   },
   {
    "duration": 72,
    "start_time": "2024-11-14T20:22:36.128Z"
   },
   {
    "duration": 112,
    "start_time": "2024-11-14T20:22:41.171Z"
   },
   {
    "duration": 110,
    "start_time": "2024-11-14T20:23:05.307Z"
   },
   {
    "duration": 107,
    "start_time": "2024-11-14T20:23:28.564Z"
   },
   {
    "duration": 38,
    "start_time": "2024-11-14T20:23:39.852Z"
   },
   {
    "duration": 40,
    "start_time": "2024-11-14T20:23:42.639Z"
   },
   {
    "duration": 57,
    "start_time": "2024-11-16T15:25:32.722Z"
   },
   {
    "duration": 457,
    "start_time": "2024-11-16T15:25:39.247Z"
   },
   {
    "duration": 1041,
    "start_time": "2024-11-16T15:25:39.707Z"
   },
   {
    "duration": 28,
    "start_time": "2024-11-16T15:25:40.750Z"
   },
   {
    "duration": 20,
    "start_time": "2024-11-16T15:25:40.781Z"
   },
   {
    "duration": 15,
    "start_time": "2024-11-16T15:25:40.804Z"
   },
   {
    "duration": 19,
    "start_time": "2024-11-16T15:25:40.820Z"
   },
   {
    "duration": 166,
    "start_time": "2024-11-16T15:25:40.841Z"
   },
   {
    "duration": 34,
    "start_time": "2024-11-16T15:25:41.009Z"
   },
   {
    "duration": 27,
    "start_time": "2024-11-16T15:38:27.219Z"
   },
   {
    "duration": 35,
    "start_time": "2024-11-16T15:38:32.100Z"
   },
   {
    "duration": 84,
    "start_time": "2024-11-16T16:10:14.921Z"
   },
   {
    "duration": 75,
    "start_time": "2024-11-16T16:12:15.587Z"
   },
   {
    "duration": 9,
    "start_time": "2024-11-16T16:12:29.804Z"
   },
   {
    "duration": 7,
    "start_time": "2024-11-16T16:12:33.739Z"
   },
   {
    "duration": 63,
    "start_time": "2024-11-16T16:12:36.906Z"
   },
   {
    "duration": 74,
    "start_time": "2024-11-16T16:12:41.884Z"
   },
   {
    "duration": 859,
    "start_time": "2024-11-16T16:13:15.916Z"
   },
   {
    "duration": 1262,
    "start_time": "2024-11-16T16:20:41.534Z"
   },
   {
    "duration": 424,
    "start_time": "2024-11-16T16:20:42.797Z"
   },
   {
    "duration": 14,
    "start_time": "2024-11-16T16:20:43.223Z"
   },
   {
    "duration": 26,
    "start_time": "2024-11-16T16:20:43.239Z"
   },
   {
    "duration": 14,
    "start_time": "2024-11-16T16:20:43.267Z"
   },
   {
    "duration": 88,
    "start_time": "2024-11-16T16:20:43.282Z"
   },
   {
    "duration": 142,
    "start_time": "2024-11-16T16:20:43.372Z"
   },
   {
    "duration": 1136959,
    "start_time": "2024-11-16T16:20:43.516Z"
   },
   {
    "duration": 12,
    "start_time": "2024-11-16T16:44:10.011Z"
   },
   {
    "duration": 12,
    "start_time": "2024-11-16T16:44:36.168Z"
   },
   {
    "duration": 12,
    "start_time": "2024-11-16T16:45:00.284Z"
   },
   {
    "duration": 5805,
    "start_time": "2024-11-16T16:45:15.452Z"
   },
   {
    "duration": 5739,
    "start_time": "2024-11-16T16:47:30.212Z"
   },
   {
    "duration": 4722,
    "start_time": "2024-11-16T16:50:31.411Z"
   },
   {
    "duration": 3573,
    "start_time": "2024-11-16T16:50:45.644Z"
   },
   {
    "duration": 4194,
    "start_time": "2024-11-16T16:57:30.581Z"
   },
   {
    "duration": 4044,
    "start_time": "2024-11-16T16:59:13.857Z"
   },
   {
    "duration": 4007,
    "start_time": "2024-11-16T16:59:24.289Z"
   },
   {
    "duration": 3915,
    "start_time": "2024-11-16T17:00:03.094Z"
   },
   {
    "duration": 3771,
    "start_time": "2024-11-16T17:01:49.656Z"
   },
   {
    "duration": 4728,
    "start_time": "2024-11-16T17:01:59.389Z"
   },
   {
    "duration": 3919,
    "start_time": "2024-11-16T17:02:25.115Z"
   },
   {
    "duration": 29,
    "start_time": "2024-11-16T17:34:35.596Z"
   },
   {
    "duration": 11,
    "start_time": "2024-11-16T17:34:51.521Z"
   },
   {
    "duration": 3573,
    "start_time": "2024-11-16T17:35:27.437Z"
   },
   {
    "duration": 79,
    "start_time": "2024-11-16T17:35:34.752Z"
   },
   {
    "duration": 31,
    "start_time": "2024-11-16T17:35:39.940Z"
   },
   {
    "duration": 3,
    "start_time": "2024-11-16T17:35:41.234Z"
   },
   {
    "duration": 754,
    "start_time": "2024-11-16T17:35:42.372Z"
   },
   {
    "duration": 1966,
    "start_time": "2024-11-16T17:38:28.477Z"
   },
   {
    "duration": 1850,
    "start_time": "2024-11-16T17:40:40.752Z"
   },
   {
    "duration": 1069,
    "start_time": "2024-11-16T17:51:58.451Z"
   },
   {
    "duration": 1884,
    "start_time": "2024-11-16T17:52:28.345Z"
   },
   {
    "duration": 1982,
    "start_time": "2024-11-16T17:54:01.818Z"
   },
   {
    "duration": 1836,
    "start_time": "2024-11-16T17:56:13.682Z"
   },
   {
    "duration": 1150,
    "start_time": "2024-11-16T17:56:34.082Z"
   },
   {
    "duration": 246,
    "start_time": "2024-11-16T18:03:26.325Z"
   },
   {
    "duration": 1534,
    "start_time": "2024-11-17T12:11:29.091Z"
   },
   {
    "duration": 4,
    "start_time": "2024-11-17T12:50:21.569Z"
   },
   {
    "duration": 5,
    "start_time": "2024-11-17T12:50:37.386Z"
   },
   {
    "duration": 105,
    "start_time": "2024-11-17T12:50:48.682Z"
   },
   {
    "duration": 3436,
    "start_time": "2024-11-17T12:50:57.647Z"
   },
   {
    "duration": 1432,
    "start_time": "2024-11-17T12:51:01.086Z"
   },
   {
    "duration": 1608,
    "start_time": "2024-11-17T12:51:02.519Z"
   },
   {
    "duration": 13,
    "start_time": "2024-11-17T12:51:04.128Z"
   },
   {
    "duration": 16,
    "start_time": "2024-11-17T12:51:04.143Z"
   },
   {
    "duration": 16,
    "start_time": "2024-11-17T12:51:04.160Z"
   },
   {
    "duration": 17,
    "start_time": "2024-11-17T12:51:04.178Z"
   },
   {
    "duration": 155,
    "start_time": "2024-11-17T12:51:04.197Z"
   },
   {
    "duration": 3662,
    "start_time": "2024-11-17T12:51:04.353Z"
   },
   {
    "duration": 1121,
    "start_time": "2024-11-17T12:51:08.016Z"
   },
   {
    "duration": 112,
    "start_time": "2024-11-17T12:51:09.138Z"
   },
   {
    "duration": 119,
    "start_time": "2024-11-17T12:52:26.161Z"
   },
   {
    "duration": 428,
    "start_time": "2024-11-17T12:52:42.449Z"
   },
   {
    "duration": 3,
    "start_time": "2024-11-17T13:38:11.928Z"
   },
   {
    "duration": 2465,
    "start_time": "2024-11-17T13:38:17.107Z"
   },
   {
    "duration": 1449,
    "start_time": "2024-11-17T13:38:19.575Z"
   },
   {
    "duration": 409,
    "start_time": "2024-11-17T13:38:21.026Z"
   },
   {
    "duration": 13,
    "start_time": "2024-11-17T13:38:21.436Z"
   },
   {
    "duration": 19,
    "start_time": "2024-11-17T13:38:21.450Z"
   },
   {
    "duration": 14,
    "start_time": "2024-11-17T13:38:21.471Z"
   },
   {
    "duration": 14,
    "start_time": "2024-11-17T13:38:21.487Z"
   },
   {
    "duration": 138,
    "start_time": "2024-11-17T13:38:21.502Z"
   },
   {
    "duration": 3729,
    "start_time": "2024-11-17T13:38:21.641Z"
   },
   {
    "duration": 1131,
    "start_time": "2024-11-17T13:38:25.371Z"
   },
   {
    "duration": 268,
    "start_time": "2024-11-17T13:38:26.503Z"
   },
   {
    "duration": 182,
    "start_time": "2024-11-17T13:38:42.390Z"
   },
   {
    "duration": 409,
    "start_time": "2024-11-17T13:39:09.170Z"
   },
   {
    "duration": 62,
    "start_time": "2024-11-17T13:39:31.759Z"
   },
   {
    "duration": 3,
    "start_time": "2024-11-17T13:39:35.874Z"
   },
   {
    "duration": 379,
    "start_time": "2024-11-17T13:39:51.795Z"
   },
   {
    "duration": 373,
    "start_time": "2024-11-17T13:41:40.399Z"
   },
   {
    "duration": 355,
    "start_time": "2024-11-17T13:41:50.822Z"
   },
   {
    "duration": 43,
    "start_time": "2024-11-17T13:42:02.730Z"
   },
   {
    "duration": 379,
    "start_time": "2024-11-17T13:42:07.399Z"
   },
   {
    "duration": 377,
    "start_time": "2024-11-17T13:42:33.108Z"
   },
   {
    "duration": 2352,
    "start_time": "2024-11-17T13:43:25.624Z"
   },
   {
    "duration": 1424,
    "start_time": "2024-11-17T13:43:27.978Z"
   },
   {
    "duration": 419,
    "start_time": "2024-11-17T13:43:29.403Z"
   },
   {
    "duration": 13,
    "start_time": "2024-11-17T13:43:29.823Z"
   },
   {
    "duration": 15,
    "start_time": "2024-11-17T13:43:29.838Z"
   },
   {
    "duration": 28,
    "start_time": "2024-11-17T13:43:29.854Z"
   },
   {
    "duration": 14,
    "start_time": "2024-11-17T13:43:29.884Z"
   },
   {
    "duration": 143,
    "start_time": "2024-11-17T13:43:29.900Z"
   },
   {
    "duration": 3693,
    "start_time": "2024-11-17T13:43:30.045Z"
   },
   {
    "duration": 1151,
    "start_time": "2024-11-17T13:43:33.739Z"
   },
   {
    "duration": 394,
    "start_time": "2024-11-17T13:43:34.891Z"
   },
   {
    "duration": 3329,
    "start_time": "2024-11-18T15:43:07.569Z"
   },
   {
    "duration": 1703,
    "start_time": "2024-11-18T15:43:10.900Z"
   },
   {
    "duration": 928,
    "start_time": "2024-11-18T15:43:12.605Z"
   },
   {
    "duration": 13,
    "start_time": "2024-11-18T15:43:13.535Z"
   },
   {
    "duration": 20,
    "start_time": "2024-11-18T15:43:13.550Z"
   },
   {
    "duration": 15,
    "start_time": "2024-11-18T15:43:13.572Z"
   },
   {
    "duration": 44,
    "start_time": "2024-11-18T15:43:13.589Z"
   },
   {
    "duration": 133,
    "start_time": "2024-11-18T15:43:13.634Z"
   },
   {
    "duration": 3991,
    "start_time": "2024-11-18T15:43:13.768Z"
   },
   {
    "duration": 1235,
    "start_time": "2024-11-18T15:43:17.762Z"
   },
   {
    "duration": 423,
    "start_time": "2024-11-18T15:43:18.999Z"
   },
   {
    "duration": 4,
    "start_time": "2024-11-18T15:49:14.673Z"
   },
   {
    "duration": 322,
    "start_time": "2024-11-18T15:49:19.763Z"
   },
   {
    "duration": 374,
    "start_time": "2024-11-18T15:50:09.153Z"
   },
   {
    "duration": 3,
    "start_time": "2024-11-18T16:11:14.315Z"
   },
   {
    "duration": 3,
    "start_time": "2024-11-18T16:11:30.967Z"
   },
   {
    "duration": 3,
    "start_time": "2024-11-18T16:17:17.342Z"
   },
   {
    "duration": 2,
    "start_time": "2024-11-18T16:17:29.655Z"
   },
   {
    "duration": 4,
    "start_time": "2024-11-18T16:18:34.082Z"
   },
   {
    "duration": 5,
    "start_time": "2024-11-18T16:18:40.351Z"
   },
   {
    "duration": 4,
    "start_time": "2024-11-18T16:20:49.278Z"
   },
   {
    "duration": 61,
    "start_time": "2024-11-18T16:22:18.004Z"
   },
   {
    "duration": 11,
    "start_time": "2024-11-18T16:22:30.279Z"
   },
   {
    "duration": 10,
    "start_time": "2024-11-18T16:22:47.455Z"
   },
   {
    "duration": 4,
    "start_time": "2024-11-18T16:23:03.634Z"
   },
   {
    "duration": 4,
    "start_time": "2024-11-18T16:23:14.016Z"
   },
   {
    "duration": 10,
    "start_time": "2024-11-18T16:26:57.578Z"
   },
   {
    "duration": 4,
    "start_time": "2024-11-18T16:27:07.712Z"
   },
   {
    "duration": 7,
    "start_time": "2024-11-18T16:30:45.558Z"
   },
   {
    "duration": 3,
    "start_time": "2024-11-18T16:39:46.980Z"
   },
   {
    "duration": 4,
    "start_time": "2024-11-18T16:41:20.967Z"
   },
   {
    "duration": 13,
    "start_time": "2024-11-18T16:41:29.347Z"
   },
   {
    "duration": 162,
    "start_time": "2024-11-18T16:45:34.464Z"
   },
   {
    "duration": 382,
    "start_time": "2024-11-18T16:45:51.143Z"
   },
   {
    "duration": 6,
    "start_time": "2024-11-18T16:46:24.465Z"
   },
   {
    "duration": 8,
    "start_time": "2024-11-18T16:47:48.839Z"
   },
   {
    "duration": 367,
    "start_time": "2024-11-18T16:47:53.161Z"
   },
   {
    "duration": 356,
    "start_time": "2024-11-18T16:48:10.773Z"
   },
   {
    "duration": 11,
    "start_time": "2024-11-18T16:48:14.317Z"
   },
   {
    "duration": 19,
    "start_time": "2024-11-18T16:55:41.055Z"
   },
   {
    "duration": 22,
    "start_time": "2024-11-18T16:55:53.939Z"
   },
   {
    "duration": 13,
    "start_time": "2024-11-18T16:56:06.632Z"
   },
   {
    "duration": 21,
    "start_time": "2024-11-18T16:56:10.014Z"
   },
   {
    "duration": 13,
    "start_time": "2024-11-18T16:56:19.208Z"
   },
   {
    "duration": 14,
    "start_time": "2024-11-18T16:56:24.982Z"
   },
   {
    "duration": 11,
    "start_time": "2024-11-18T16:57:06.481Z"
   },
   {
    "duration": 15,
    "start_time": "2024-11-18T16:57:10.269Z"
   },
   {
    "duration": 14,
    "start_time": "2024-11-18T16:57:14.477Z"
   },
   {
    "duration": 23,
    "start_time": "2024-11-18T16:57:40.621Z"
   },
   {
    "duration": 3807,
    "start_time": "2024-11-18T19:29:38.888Z"
   },
   {
    "duration": 1683,
    "start_time": "2024-11-18T19:29:42.698Z"
   },
   {
    "duration": 1060,
    "start_time": "2024-11-18T19:29:44.383Z"
   },
   {
    "duration": 14,
    "start_time": "2024-11-18T19:29:45.445Z"
   },
   {
    "duration": 23,
    "start_time": "2024-11-18T19:29:45.461Z"
   },
   {
    "duration": 15,
    "start_time": "2024-11-18T19:29:45.486Z"
   },
   {
    "duration": 15,
    "start_time": "2024-11-18T19:29:45.503Z"
   },
   {
    "duration": 162,
    "start_time": "2024-11-18T19:29:45.519Z"
   },
   {
    "duration": 4136,
    "start_time": "2024-11-18T19:29:45.685Z"
   },
   {
    "duration": 1399,
    "start_time": "2024-11-18T19:29:49.823Z"
   },
   {
    "duration": 370,
    "start_time": "2024-11-18T19:29:51.224Z"
   },
   {
    "duration": 12,
    "start_time": "2024-11-18T19:29:51.674Z"
   },
   {
    "duration": 90,
    "start_time": "2024-11-18T19:29:51.688Z"
   },
   {
    "duration": 59,
    "start_time": "2024-11-18T19:33:48.379Z"
   },
   {
    "duration": 71,
    "start_time": "2024-11-18T19:33:51.763Z"
   },
   {
    "duration": 7,
    "start_time": "2024-11-18T19:33:55.978Z"
   },
   {
    "duration": 118,
    "start_time": "2024-11-18T19:34:09.543Z"
   },
   {
    "duration": 4,
    "start_time": "2024-11-18T19:34:29.188Z"
   },
   {
    "duration": 4,
    "start_time": "2024-11-18T19:34:38.324Z"
   },
   {
    "duration": 4,
    "start_time": "2024-11-18T19:34:56.741Z"
   },
   {
    "duration": 14,
    "start_time": "2024-11-18T19:44:28.543Z"
   },
   {
    "duration": 19,
    "start_time": "2024-11-18T19:45:22.327Z"
   },
   {
    "duration": 12,
    "start_time": "2024-11-18T19:45:31.108Z"
   },
   {
    "duration": 19,
    "start_time": "2024-11-18T19:46:25.788Z"
   },
   {
    "duration": 15,
    "start_time": "2024-11-18T19:48:45.143Z"
   },
   {
    "duration": 128,
    "start_time": "2024-11-18T19:48:58.753Z"
   },
   {
    "duration": 136,
    "start_time": "2024-11-18T19:49:33.533Z"
   },
   {
    "duration": 428,
    "start_time": "2024-11-18T19:51:40.347Z"
   },
   {
    "duration": 6,
    "start_time": "2024-11-18T19:51:45.641Z"
   },
   {
    "duration": 11,
    "start_time": "2024-11-18T19:51:55.108Z"
   },
   {
    "duration": 17,
    "start_time": "2024-11-18T19:52:03.488Z"
   },
   {
    "duration": 16,
    "start_time": "2024-11-18T19:52:05.482Z"
   },
   {
    "duration": 966,
    "start_time": "2024-11-18T19:55:52.588Z"
   },
   {
    "duration": 13,
    "start_time": "2024-11-18T19:56:03.107Z"
   },
   {
    "duration": 19,
    "start_time": "2024-11-18T19:57:16.571Z"
   },
   {
    "duration": 16,
    "start_time": "2024-11-18T19:57:33.207Z"
   },
   {
    "duration": 21,
    "start_time": "2024-11-18T19:57:40.752Z"
   },
   {
    "duration": 17791,
    "start_time": "2024-11-18T19:57:55.224Z"
   },
   {
    "duration": 14,
    "start_time": "2024-11-18T19:58:55.772Z"
   },
   {
    "duration": 12,
    "start_time": "2024-11-20T17:12:35.451Z"
   },
   {
    "duration": 4,
    "start_time": "2024-11-20T17:12:40.699Z"
   },
   {
    "duration": 5,
    "start_time": "2024-11-20T17:12:59.230Z"
   },
   {
    "duration": 123,
    "start_time": "2024-11-20T18:45:54.014Z"
   },
   {
    "duration": 4,
    "start_time": "2024-11-20T18:46:04.042Z"
   },
   {
    "duration": 4,
    "start_time": "2024-11-20T18:46:06.224Z"
   },
   {
    "duration": 23,
    "start_time": "2024-11-20T18:46:07.829Z"
   },
   {
    "duration": 4,
    "start_time": "2024-11-20T18:49:00.324Z"
   },
   {
    "duration": 901,
    "start_time": "2024-11-20T18:49:02.416Z"
   },
   {
    "duration": 4,
    "start_time": "2024-11-20T18:50:33.181Z"
   },
   {
    "duration": 32,
    "start_time": "2024-11-20T18:50:35.774Z"
   },
   {
    "duration": 4,
    "start_time": "2024-11-20T18:54:26.851Z"
   },
   {
    "duration": 15,
    "start_time": "2024-11-20T18:54:28.714Z"
   },
   {
    "duration": 16,
    "start_time": "2024-11-20T18:55:06.910Z"
   },
   {
    "duration": 15,
    "start_time": "2024-11-20T18:55:10.612Z"
   },
   {
    "duration": 14,
    "start_time": "2024-11-20T18:55:14.116Z"
   },
   {
    "duration": 13,
    "start_time": "2024-11-20T18:55:19.110Z"
   },
   {
    "duration": 4,
    "start_time": "2024-11-20T19:48:45.958Z"
   },
   {
    "duration": 14,
    "start_time": "2024-11-20T19:57:44.220Z"
   },
   {
    "duration": 14,
    "start_time": "2024-11-20T19:59:16.955Z"
   },
   {
    "duration": 4,
    "start_time": "2024-11-20T20:01:27.614Z"
   },
   {
    "duration": 5,
    "start_time": "2024-11-20T20:02:25.787Z"
   },
   {
    "duration": 5,
    "start_time": "2024-11-20T20:03:16.506Z"
   },
   {
    "duration": 20,
    "start_time": "2024-11-20T20:03:18.452Z"
   },
   {
    "duration": 5,
    "start_time": "2024-11-20T20:03:28.025Z"
   },
   {
    "duration": 186,
    "start_time": "2024-11-20T20:03:30.201Z"
   },
   {
    "duration": 5,
    "start_time": "2024-11-20T20:05:23.528Z"
   },
   {
    "duration": 182,
    "start_time": "2024-11-20T20:05:25.637Z"
   },
   {
    "duration": 4,
    "start_time": "2024-11-20T20:08:16.005Z"
   },
   {
    "duration": 4,
    "start_time": "2024-11-20T20:08:22.415Z"
   },
   {
    "duration": 806,
    "start_time": "2024-11-20T20:08:23.822Z"
   },
   {
    "duration": 840,
    "start_time": "2024-11-20T20:08:35.372Z"
   },
   {
    "duration": 806,
    "start_time": "2024-11-20T20:08:42.237Z"
   },
   {
    "duration": 834,
    "start_time": "2024-11-20T20:09:55.892Z"
   },
   {
    "duration": 2411,
    "start_time": "2024-11-20T20:10:29.939Z"
   },
   {
    "duration": 5,
    "start_time": "2024-11-20T20:11:56.384Z"
   },
   {
    "duration": 9,
    "start_time": "2024-11-20T20:12:10.756Z"
   },
   {
    "duration": 7,
    "start_time": "2024-11-20T20:12:14.655Z"
   },
   {
    "duration": 2417,
    "start_time": "2024-11-20T20:12:16.182Z"
   },
   {
    "duration": 5,
    "start_time": "2024-11-20T20:12:19.351Z"
   },
   {
    "duration": 5,
    "start_time": "2024-11-20T20:12:52.773Z"
   },
   {
    "duration": 4,
    "start_time": "2024-11-20T20:15:08.050Z"
   },
   {
    "duration": 6,
    "start_time": "2024-11-20T20:26:17.223Z"
   },
   {
    "duration": 17,
    "start_time": "2024-11-20T20:26:33.667Z"
   },
   {
    "duration": 5,
    "start_time": "2024-11-20T20:28:11.451Z"
   },
   {
    "duration": 14,
    "start_time": "2024-11-20T20:28:13.351Z"
   },
   {
    "duration": 5,
    "start_time": "2024-11-20T20:29:47.127Z"
   },
   {
    "duration": 13,
    "start_time": "2024-11-20T20:29:50.349Z"
   },
   {
    "duration": 7,
    "start_time": "2024-11-20T20:29:56.302Z"
   },
   {
    "duration": 15,
    "start_time": "2024-11-20T20:29:58.172Z"
   },
   {
    "duration": 6,
    "start_time": "2024-11-20T20:30:35.812Z"
   },
   {
    "duration": 18,
    "start_time": "2024-11-20T20:30:37.993Z"
   },
   {
    "duration": 72,
    "start_time": "2024-11-20T20:31:23.372Z"
   },
   {
    "duration": 7,
    "start_time": "2024-11-20T20:31:29.330Z"
   },
   {
    "duration": 19,
    "start_time": "2024-11-20T20:31:31.038Z"
   },
   {
    "duration": 4,
    "start_time": "2024-11-20T20:31:44.787Z"
   },
   {
    "duration": 5,
    "start_time": "2024-11-20T20:31:50.617Z"
   },
   {
    "duration": 14,
    "start_time": "2024-11-20T20:31:53.318Z"
   },
   {
    "duration": 5,
    "start_time": "2024-11-20T20:32:49.300Z"
   },
   {
    "duration": 13,
    "start_time": "2024-11-20T20:32:52.036Z"
   },
   {
    "duration": 5,
    "start_time": "2024-11-20T20:33:08.179Z"
   },
   {
    "duration": 14,
    "start_time": "2024-11-20T20:33:10.340Z"
   },
   {
    "duration": 89,
    "start_time": "2024-11-20T20:35:20.353Z"
   },
   {
    "duration": 4,
    "start_time": "2024-11-20T20:35:26.817Z"
   },
   {
    "duration": 12,
    "start_time": "2024-11-20T20:35:28.747Z"
   },
   {
    "duration": 253,
    "start_time": "2024-11-20T20:41:28.730Z"
   },
   {
    "duration": 247,
    "start_time": "2024-11-20T20:41:39.740Z"
   },
   {
    "duration": 3,
    "start_time": "2024-11-20T20:42:33.576Z"
   },
   {
    "duration": 394,
    "start_time": "2024-11-20T20:43:04.014Z"
   },
   {
    "duration": 2345,
    "start_time": "2024-11-20T20:43:22.065Z"
   },
   {
    "duration": 2376,
    "start_time": "2024-11-20T20:43:57.364Z"
   },
   {
    "duration": 2371,
    "start_time": "2024-11-20T20:44:57.807Z"
   },
   {
    "duration": 2355,
    "start_time": "2024-11-20T20:45:12.863Z"
   },
   {
    "duration": 11,
    "start_time": "2024-11-20T20:45:39.523Z"
   },
   {
    "duration": 383,
    "start_time": "2024-11-20T20:46:14.827Z"
   },
   {
    "duration": 389,
    "start_time": "2024-11-20T20:46:35.825Z"
   },
   {
    "duration": 2439,
    "start_time": "2024-11-20T20:49:16.623Z"
   },
   {
    "duration": 2389,
    "start_time": "2024-11-20T20:50:12.148Z"
   },
   {
    "duration": 11,
    "start_time": "2024-11-20T20:50:50.627Z"
   },
   {
    "duration": 11,
    "start_time": "2024-11-20T20:50:54.333Z"
   },
   {
    "duration": 3462,
    "start_time": "2024-11-21T15:26:09.844Z"
   },
   {
    "duration": 1630,
    "start_time": "2024-11-21T15:26:13.308Z"
   },
   {
    "duration": 1763,
    "start_time": "2024-11-21T15:26:14.939Z"
   },
   {
    "duration": 17,
    "start_time": "2024-11-21T15:26:16.705Z"
   },
   {
    "duration": 21,
    "start_time": "2024-11-21T15:26:16.724Z"
   },
   {
    "duration": 17,
    "start_time": "2024-11-21T15:26:16.752Z"
   },
   {
    "duration": 17,
    "start_time": "2024-11-21T15:26:16.771Z"
   },
   {
    "duration": 172,
    "start_time": "2024-11-21T15:26:16.790Z"
   },
   {
    "duration": 3841,
    "start_time": "2024-11-21T15:26:16.964Z"
   },
   {
    "duration": 1246,
    "start_time": "2024-11-21T15:26:20.808Z"
   },
   {
    "duration": 420,
    "start_time": "2024-11-21T15:26:22.056Z"
   },
   {
    "duration": 174,
    "start_time": "2024-11-21T15:26:22.478Z"
   },
   {
    "duration": 11,
    "start_time": "2024-11-21T15:26:22.654Z"
   },
   {
    "duration": 129,
    "start_time": "2024-11-21T15:26:22.666Z"
   },
   {
    "duration": 0,
    "start_time": "2024-11-21T15:26:22.797Z"
   },
   {
    "duration": 0,
    "start_time": "2024-11-21T15:26:22.798Z"
   },
   {
    "duration": 0,
    "start_time": "2024-11-21T15:26:22.799Z"
   },
   {
    "duration": 0,
    "start_time": "2024-11-21T15:26:22.800Z"
   },
   {
    "duration": 0,
    "start_time": "2024-11-21T15:26:22.801Z"
   },
   {
    "duration": 0,
    "start_time": "2024-11-21T15:26:22.803Z"
   },
   {
    "duration": 0,
    "start_time": "2024-11-21T15:26:22.804Z"
   },
   {
    "duration": 4,
    "start_time": "2024-11-21T15:30:14.009Z"
   },
   {
    "duration": 9,
    "start_time": "2024-11-21T15:30:16.089Z"
   },
   {
    "duration": 5,
    "start_time": "2024-11-21T15:30:18.753Z"
   },
   {
    "duration": 2510,
    "start_time": "2024-11-21T15:30:22.894Z"
   },
   {
    "duration": 5,
    "start_time": "2024-11-21T15:30:26.077Z"
   },
   {
    "duration": 2445,
    "start_time": "2024-11-21T15:30:28.527Z"
   },
   {
    "duration": 11,
    "start_time": "2024-11-21T15:30:34.295Z"
   },
   {
    "duration": 12,
    "start_time": "2024-11-21T15:30:45.735Z"
   },
   {
    "duration": 2452,
    "start_time": "2024-11-21T15:35:58.605Z"
   },
   {
    "duration": 2542,
    "start_time": "2024-11-21T15:36:31.690Z"
   },
   {
    "duration": 10,
    "start_time": "2024-11-21T15:36:38.114Z"
   },
   {
    "duration": 2593,
    "start_time": "2024-11-21T16:22:58.239Z"
   },
   {
    "duration": 1602,
    "start_time": "2024-11-21T16:23:00.834Z"
   },
   {
    "duration": 488,
    "start_time": "2024-11-21T16:23:02.438Z"
   },
   {
    "duration": 13,
    "start_time": "2024-11-21T16:23:02.928Z"
   },
   {
    "duration": 23,
    "start_time": "2024-11-21T16:23:02.943Z"
   },
   {
    "duration": 16,
    "start_time": "2024-11-21T16:23:02.967Z"
   },
   {
    "duration": 23,
    "start_time": "2024-11-21T16:23:02.986Z"
   },
   {
    "duration": 176,
    "start_time": "2024-11-21T16:23:03.010Z"
   },
   {
    "duration": 3954,
    "start_time": "2024-11-21T16:23:03.188Z"
   },
   {
    "duration": 1176,
    "start_time": "2024-11-21T16:23:07.144Z"
   },
   {
    "duration": 451,
    "start_time": "2024-11-21T16:23:08.322Z"
   },
   {
    "duration": 8,
    "start_time": "2024-11-21T16:23:08.852Z"
   },
   {
    "duration": 101,
    "start_time": "2024-11-21T16:23:08.862Z"
   },
   {
    "duration": 4,
    "start_time": "2024-11-21T16:23:08.965Z"
   },
   {
    "duration": 12,
    "start_time": "2024-11-21T16:23:08.970Z"
   },
   {
    "duration": 4,
    "start_time": "2024-11-21T16:23:08.984Z"
   },
   {
    "duration": 11,
    "start_time": "2024-11-21T16:23:08.990Z"
   },
   {
    "duration": 2436,
    "start_time": "2024-11-21T16:23:09.002Z"
   },
   {
    "duration": 14,
    "start_time": "2024-11-21T16:23:11.439Z"
   },
   {
    "duration": 12,
    "start_time": "2024-11-21T16:35:00.883Z"
   },
   {
    "duration": 9,
    "start_time": "2024-11-21T16:35:16.374Z"
   },
   {
    "duration": 11,
    "start_time": "2024-11-21T16:35:21.989Z"
   }
  ],
  "kernelspec": {
   "display_name": "practicum_env",
   "language": "python",
   "name": "python3"
  },
  "language_info": {
   "codemirror_mode": {
    "name": "ipython",
    "version": 3
   },
   "file_extension": ".py",
   "mimetype": "text/x-python",
   "name": "python",
   "nbconvert_exporter": "python",
   "pygments_lexer": "ipython3",
   "version": "3.9.6"
  },
  "toc": {
   "base_numbering": 1,
   "nav_menu": {},
   "number_sections": true,
   "sideBar": true,
   "skip_h1_title": true,
   "title_cell": "Table of Contents",
   "title_sidebar": "Contents",
   "toc_cell": false,
   "toc_position": {},
   "toc_section_display": true,
   "toc_window_display": false
  }
 },
 "nbformat": 4,
 "nbformat_minor": 2
}
